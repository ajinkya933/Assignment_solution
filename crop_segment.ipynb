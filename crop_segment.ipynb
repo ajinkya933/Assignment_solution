{
 "cells": [
  {
   "cell_type": "code",
   "execution_count": 1,
   "metadata": {},
   "outputs": [
    {
     "name": "stdout",
     "output_type": "stream",
     "text": [
      "3441 1191\n"
     ]
    }
   ],
   "source": [
    "import rasterio\n",
    "src = rasterio.open('01.TIF')\n",
    "array = src.read(1)\n",
    "\n",
    "height = array.shape[0]\n",
    "width =  array.shape[1]\n",
    "\n",
    "print(height,width)"
   ]
  },
  {
   "cell_type": "code",
   "execution_count": 2,
   "metadata": {},
   "outputs": [],
   "source": [
    "import rasterio\n",
    "import numpy as np\n",
    "import pandas as pd\n",
    "\n",
    "\n",
    "def non_zeros(input_tif):\n",
    "    \n",
    "    src = rasterio.open(input_tif)\n",
    "    array = src.read(1)\n",
    "    array2 = np.uint16(array)\n",
    "    q = array2.reshape(-1, 1)\n",
    "    \n",
    "\n",
    "    df = pd.DataFrame(data = q)\n",
    "    df.columns= ['band'+str(input_tif)[1:-4]]\n",
    "    \n",
    "    df2 = df.loc[(df!=0).any(axis=1)]\n",
    "\n",
    "    return df2"
   ]
  },
  {
   "cell_type": "code",
   "execution_count": null,
   "metadata": {},
   "outputs": [],
   "source": []
  },
  {
   "cell_type": "code",
   "execution_count": 3,
   "metadata": {},
   "outputs": [],
   "source": [
    "input_tif101 = '0101.TIF'\n",
    "res101 = non_zeros(input_tif101)"
   ]
  },
  {
   "cell_type": "code",
   "execution_count": 4,
   "metadata": {},
   "outputs": [],
   "source": [
    "input_tif102 = '0102.TIF'\n",
    "res102 = non_zeros(input_tif102)"
   ]
  },
  {
   "cell_type": "code",
   "execution_count": null,
   "metadata": {},
   "outputs": [],
   "source": []
  },
  {
   "cell_type": "code",
   "execution_count": 5,
   "metadata": {},
   "outputs": [],
   "source": [
    "input_tif103 = '0103.TIF'\n",
    "res103 = non_zeros(input_tif103)"
   ]
  },
  {
   "cell_type": "code",
   "execution_count": 6,
   "metadata": {},
   "outputs": [],
   "source": [
    "input_tif104 = '0104.TIF'\n",
    "res104 = non_zeros(input_tif104)"
   ]
  },
  {
   "cell_type": "code",
   "execution_count": 7,
   "metadata": {},
   "outputs": [],
   "source": [
    "input_tif105 = '0105.TIF'\n",
    "res105 = non_zeros(input_tif105)"
   ]
  },
  {
   "cell_type": "code",
   "execution_count": 8,
   "metadata": {},
   "outputs": [],
   "source": [
    "input_tif106 = '0106.TIF'\n",
    "res106 = non_zeros(input_tif106)"
   ]
  },
  {
   "cell_type": "code",
   "execution_count": 9,
   "metadata": {},
   "outputs": [],
   "source": [
    "input_tif107 = '0107.TIF'\n",
    "res107 = non_zeros(input_tif107)"
   ]
  },
  {
   "cell_type": "code",
   "execution_count": 10,
   "metadata": {},
   "outputs": [],
   "source": [
    "input_tif108 = '0108.TIF'\n",
    "res108 = non_zeros(input_tif108)"
   ]
  },
  {
   "cell_type": "code",
   "execution_count": 11,
   "metadata": {},
   "outputs": [],
   "source": [
    "input_tif109 = '0109.TIF'\n",
    "res109 = non_zeros(input_tif109)"
   ]
  },
  {
   "cell_type": "code",
   "execution_count": 12,
   "metadata": {},
   "outputs": [],
   "source": [
    "input_tif110 = '0110.TIF'\n",
    "res110 = non_zeros(input_tif110)"
   ]
  },
  {
   "cell_type": "code",
   "execution_count": 13,
   "metadata": {},
   "outputs": [],
   "source": [
    "input_tif111 = '0111.TIF'\n",
    "res111 = non_zeros(input_tif111)"
   ]
  },
  {
   "cell_type": "code",
   "execution_count": 14,
   "metadata": {},
   "outputs": [],
   "source": [
    "input_tif112 = '0112.TIF'\n",
    "res112 = non_zeros(input_tif112)"
   ]
  },
  {
   "cell_type": "code",
   "execution_count": 15,
   "metadata": {},
   "outputs": [],
   "source": [
    "input_tif113 = '0113.TIF'\n",
    "res113 = non_zeros(input_tif113)"
   ]
  },
  {
   "cell_type": "code",
   "execution_count": 16,
   "metadata": {},
   "outputs": [],
   "source": [
    "input_tif114 = '0114.TIF'\n",
    "res114 = non_zeros(input_tif114)"
   ]
  },
  {
   "cell_type": "code",
   "execution_count": 17,
   "metadata": {},
   "outputs": [],
   "source": [
    "input_tif115 = '0115.TIF'\n",
    "res115 = non_zeros(input_tif115)"
   ]
  },
  {
   "cell_type": "code",
   "execution_count": 18,
   "metadata": {},
   "outputs": [],
   "source": [
    "input_tif116 = '0116.TIF'\n",
    "res116 = non_zeros(input_tif116)"
   ]
  },
  {
   "cell_type": "code",
   "execution_count": 19,
   "metadata": {},
   "outputs": [],
   "source": [
    "input_tif117 = '0117.TIF'\n",
    "res117 = non_zeros(input_tif117)"
   ]
  },
  {
   "cell_type": "code",
   "execution_count": 20,
   "metadata": {},
   "outputs": [],
   "source": [
    "input_tif118 = '0118.TIF'\n",
    "res118 = non_zeros(input_tif118)"
   ]
  },
  {
   "cell_type": "code",
   "execution_count": 21,
   "metadata": {},
   "outputs": [],
   "source": [
    "input_tif119 = '0119.TIF'\n",
    "res119 = non_zeros(input_tif119)"
   ]
  },
  {
   "cell_type": "code",
   "execution_count": 22,
   "metadata": {},
   "outputs": [],
   "source": [
    "input_tif120 = '0120.TIF'\n",
    "res120 = non_zeros(input_tif120)"
   ]
  },
  {
   "cell_type": "code",
   "execution_count": 23,
   "metadata": {},
   "outputs": [],
   "source": [
    "input_tif121 = '0121.TIF'\n",
    "res121 = non_zeros(input_tif121)"
   ]
  },
  {
   "cell_type": "code",
   "execution_count": 24,
   "metadata": {},
   "outputs": [],
   "source": [
    "input_tif122 = '0122.TIF'\n",
    "res122 = non_zeros(input_tif122)"
   ]
  },
  {
   "cell_type": "code",
   "execution_count": 25,
   "metadata": {},
   "outputs": [],
   "source": [
    "input_tif123 = '0123.TIF'\n",
    "res123 = non_zeros(input_tif123)"
   ]
  },
  {
   "cell_type": "code",
   "execution_count": 26,
   "metadata": {},
   "outputs": [],
   "source": [
    "input_tif124 = '0124.TIF'\n",
    "res124 = non_zeros(input_tif124)"
   ]
  },
  {
   "cell_type": "code",
   "execution_count": 27,
   "metadata": {},
   "outputs": [],
   "source": [
    "input_tif125 = '0125.TIF'\n",
    "res125 = non_zeros(input_tif125)"
   ]
  },
  {
   "cell_type": "code",
   "execution_count": 28,
   "metadata": {},
   "outputs": [],
   "source": [
    "input_tif126 = '0126.TIF'\n",
    "res126 = non_zeros(input_tif126)"
   ]
  },
  {
   "cell_type": "code",
   "execution_count": 29,
   "metadata": {},
   "outputs": [],
   "source": [
    "input_tif127 = '0127.TIF'\n",
    "res127 = non_zeros(input_tif127)"
   ]
  },
  {
   "cell_type": "code",
   "execution_count": 30,
   "metadata": {},
   "outputs": [],
   "source": [
    "input_tif128 = '0128.TIF'\n",
    "res128 = non_zeros(input_tif128)"
   ]
  },
  {
   "cell_type": "code",
   "execution_count": 31,
   "metadata": {},
   "outputs": [],
   "source": [
    "input_tif129 = '0129.TIF'\n",
    "res129 = non_zeros(input_tif129)"
   ]
  },
  {
   "cell_type": "code",
   "execution_count": 32,
   "metadata": {},
   "outputs": [],
   "source": [
    "input_tif130 = '0130.TIF'\n",
    "res130 = non_zeros(input_tif130)"
   ]
  },
  {
   "cell_type": "code",
   "execution_count": 33,
   "metadata": {},
   "outputs": [],
   "source": [
    "input_tif131 = '0131.TIF'\n",
    "res131 = non_zeros(input_tif131)"
   ]
  },
  {
   "cell_type": "code",
   "execution_count": 34,
   "metadata": {},
   "outputs": [],
   "source": [
    "input_tif132 = '0132.TIF'\n",
    "res132 = non_zeros(input_tif132)"
   ]
  },
  {
   "cell_type": "code",
   "execution_count": 35,
   "metadata": {},
   "outputs": [],
   "source": [
    "input_tif133 = '0133.TIF'\n",
    "res133 = non_zeros(input_tif133)"
   ]
  },
  {
   "cell_type": "code",
   "execution_count": 36,
   "metadata": {},
   "outputs": [],
   "source": [
    "input_tif134 = '0134.TIF'\n",
    "res134 = non_zeros(input_tif134)"
   ]
  },
  {
   "cell_type": "code",
   "execution_count": 37,
   "metadata": {},
   "outputs": [],
   "source": [
    "input_tif134 = '0134.TIF'\n",
    "res134 = non_zeros(input_tif134)"
   ]
  },
  {
   "cell_type": "code",
   "execution_count": 38,
   "metadata": {},
   "outputs": [],
   "source": [
    "input_tif135 = '0135.TIF'\n",
    "res135 = non_zeros(input_tif135)"
   ]
  },
  {
   "cell_type": "code",
   "execution_count": 39,
   "metadata": {},
   "outputs": [],
   "source": [
    "input_tif136 = '0136.TIF'\n",
    "res136 = non_zeros(input_tif136)"
   ]
  },
  {
   "cell_type": "code",
   "execution_count": 40,
   "metadata": {},
   "outputs": [],
   "source": [
    "input_tif137 = '0137.TIF'\n",
    "res137 = non_zeros(input_tif137)"
   ]
  },
  {
   "cell_type": "code",
   "execution_count": 41,
   "metadata": {},
   "outputs": [],
   "source": [
    "input_tif138 = '0138.TIF'\n",
    "res138 = non_zeros(input_tif138)"
   ]
  },
  {
   "cell_type": "code",
   "execution_count": 42,
   "metadata": {},
   "outputs": [],
   "source": [
    "input_tif139 = '0139.TIF'\n",
    "res139 = non_zeros(input_tif139)"
   ]
  },
  {
   "cell_type": "code",
   "execution_count": 43,
   "metadata": {},
   "outputs": [],
   "source": [
    "input_tif140 = '0140.TIF'\n",
    "res140 = non_zeros(input_tif140)"
   ]
  },
  {
   "cell_type": "code",
   "execution_count": 44,
   "metadata": {},
   "outputs": [],
   "source": [
    "input_tif141 = '0141.TIF'\n",
    "res141 = non_zeros(input_tif141)"
   ]
  },
  {
   "cell_type": "code",
   "execution_count": 45,
   "metadata": {},
   "outputs": [],
   "source": [
    "input_tif142 = '0142.TIF'\n",
    "res142 = non_zeros(input_tif142)"
   ]
  },
  {
   "cell_type": "code",
   "execution_count": 46,
   "metadata": {},
   "outputs": [],
   "source": [
    "input_tif143 = '0143.TIF'\n",
    "res143 = non_zeros(input_tif143)"
   ]
  },
  {
   "cell_type": "code",
   "execution_count": 47,
   "metadata": {},
   "outputs": [],
   "source": [
    "input_tif144 = '0144.TIF'\n",
    "res144 = non_zeros(input_tif144)"
   ]
  },
  {
   "cell_type": "code",
   "execution_count": 48,
   "metadata": {},
   "outputs": [],
   "source": [
    "input_tif145 = '0145.TIF'\n",
    "res145 = non_zeros(input_tif145)"
   ]
  },
  {
   "cell_type": "code",
   "execution_count": 49,
   "metadata": {},
   "outputs": [],
   "source": [
    "input_tif146 = '0146.TIF'\n",
    "res146 = non_zeros(input_tif146)"
   ]
  },
  {
   "cell_type": "code",
   "execution_count": 50,
   "metadata": {},
   "outputs": [],
   "source": [
    "input_tif147 = '0147.TIF'\n",
    "res147 = non_zeros(input_tif147)"
   ]
  },
  {
   "cell_type": "code",
   "execution_count": 51,
   "metadata": {},
   "outputs": [],
   "source": [
    "input_tif148 = '0148.TIF'\n",
    "res148 = non_zeros(input_tif148)"
   ]
  },
  {
   "cell_type": "code",
   "execution_count": 52,
   "metadata": {},
   "outputs": [],
   "source": [
    "input_tif149 = '0149.TIF'\n",
    "res149 = non_zeros(input_tif149)"
   ]
  },
  {
   "cell_type": "code",
   "execution_count": 53,
   "metadata": {},
   "outputs": [],
   "source": [
    "input_tif150 = '0150.TIF'\n",
    "res150 = non_zeros(input_tif150)"
   ]
  },
  {
   "cell_type": "code",
   "execution_count": 54,
   "metadata": {},
   "outputs": [],
   "source": [
    "input_tif151 = '0151.TIF'\n",
    "res151 = non_zeros(input_tif151)"
   ]
  },
  {
   "cell_type": "code",
   "execution_count": 55,
   "metadata": {},
   "outputs": [],
   "source": [
    "input_tif152 = '0152.TIF'\n",
    "res152 = non_zeros(input_tif152)"
   ]
  },
  {
   "cell_type": "code",
   "execution_count": 56,
   "metadata": {},
   "outputs": [],
   "source": [
    "input_tif153 = '0153.TIF'\n",
    "res153 = non_zeros(input_tif153)"
   ]
  },
  {
   "cell_type": "code",
   "execution_count": 57,
   "metadata": {},
   "outputs": [],
   "source": [
    "input_tif154 = '0154.TIF'\n",
    "res154 = non_zeros(input_tif154)"
   ]
  },
  {
   "cell_type": "code",
   "execution_count": 58,
   "metadata": {},
   "outputs": [],
   "source": [
    "input_tif155 = '0155.TIF'\n",
    "res155 = non_zeros(input_tif155)"
   ]
  },
  {
   "cell_type": "code",
   "execution_count": 59,
   "metadata": {},
   "outputs": [],
   "source": [
    "input_tif156 = '0156.TIF'\n",
    "res156 = non_zeros(input_tif156)"
   ]
  },
  {
   "cell_type": "code",
   "execution_count": 60,
   "metadata": {},
   "outputs": [],
   "source": [
    "input_tif157 = '0157.TIF'\n",
    "res157 = non_zeros(input_tif157)"
   ]
  },
  {
   "cell_type": "code",
   "execution_count": 61,
   "metadata": {},
   "outputs": [],
   "source": [
    "input_tif158 = '0158.TIF'\n",
    "res158 = non_zeros(input_tif158)"
   ]
  },
  {
   "cell_type": "code",
   "execution_count": 62,
   "metadata": {},
   "outputs": [],
   "source": [
    "input_tif159 = '0159.TIF'\n",
    "res159 = non_zeros(input_tif159)"
   ]
  },
  {
   "cell_type": "code",
   "execution_count": 63,
   "metadata": {},
   "outputs": [],
   "source": [
    "input_tif160 = '0160.TIF'\n",
    "res160 = non_zeros(input_tif160)"
   ]
  },
  {
   "cell_type": "code",
   "execution_count": 64,
   "metadata": {},
   "outputs": [],
   "source": [
    "input_tif161 = '0161.TIF'\n",
    "res161 = non_zeros(input_tif161)"
   ]
  },
  {
   "cell_type": "code",
   "execution_count": 65,
   "metadata": {},
   "outputs": [],
   "source": [
    "input_tif162 = '0162.TIF'\n",
    "res162 = non_zeros(input_tif162)"
   ]
  },
  {
   "cell_type": "code",
   "execution_count": 66,
   "metadata": {},
   "outputs": [],
   "source": [
    "input_tif163 = '0163.TIF'\n",
    "res163 = non_zeros(input_tif163)"
   ]
  },
  {
   "cell_type": "code",
   "execution_count": 67,
   "metadata": {},
   "outputs": [],
   "source": [
    "input_tif164 = '0164.TIF'\n",
    "res164 = non_zeros(input_tif164)"
   ]
  },
  {
   "cell_type": "code",
   "execution_count": 68,
   "metadata": {},
   "outputs": [],
   "source": [
    "input_tif165 = '0165.TIF'\n",
    "res165 = non_zeros(input_tif165)"
   ]
  },
  {
   "cell_type": "code",
   "execution_count": 69,
   "metadata": {},
   "outputs": [],
   "source": [
    "input_tif166 = '0166.TIF'\n",
    "res166 = non_zeros(input_tif166)"
   ]
  },
  {
   "cell_type": "code",
   "execution_count": 70,
   "metadata": {},
   "outputs": [],
   "source": [
    "input_tif167 = '0167.TIF'\n",
    "res167 = non_zeros(input_tif167)"
   ]
  },
  {
   "cell_type": "code",
   "execution_count": 71,
   "metadata": {},
   "outputs": [],
   "source": [
    "input_tif168 = '0168.TIF'\n",
    "res168 = non_zeros(input_tif168)"
   ]
  },
  {
   "cell_type": "code",
   "execution_count": 72,
   "metadata": {},
   "outputs": [],
   "source": [
    "input_tif169 = '0169.TIF'\n",
    "res169 = non_zeros(input_tif169)"
   ]
  },
  {
   "cell_type": "code",
   "execution_count": 73,
   "metadata": {},
   "outputs": [],
   "source": [
    "input_tif170 = '0170.TIF'\n",
    "res170 = non_zeros(input_tif170)"
   ]
  },
  {
   "cell_type": "code",
   "execution_count": 74,
   "metadata": {},
   "outputs": [],
   "source": [
    "input_tif171 = '0171.TIF'\n",
    "res171 = non_zeros(input_tif171)"
   ]
  },
  {
   "cell_type": "code",
   "execution_count": 75,
   "metadata": {},
   "outputs": [],
   "source": [
    "input_tif172 = '0172.TIF'\n",
    "res172 = non_zeros(input_tif172)"
   ]
  },
  {
   "cell_type": "code",
   "execution_count": 76,
   "metadata": {},
   "outputs": [],
   "source": [
    "input_tif173 = '0173.TIF'\n",
    "res173 = non_zeros(input_tif173)"
   ]
  },
  {
   "cell_type": "code",
   "execution_count": 77,
   "metadata": {},
   "outputs": [],
   "source": [
    "input_tif174 = '0174.TIF'\n",
    "res174 = non_zeros(input_tif174)"
   ]
  },
  {
   "cell_type": "code",
   "execution_count": 78,
   "metadata": {},
   "outputs": [],
   "source": [
    "input_tif175 = '0175.TIF'\n",
    "res175 = non_zeros(input_tif175)"
   ]
  },
  {
   "cell_type": "code",
   "execution_count": 79,
   "metadata": {},
   "outputs": [],
   "source": [
    "input_tif176 = '0176.TIF'\n",
    "res176 = non_zeros(input_tif176)"
   ]
  },
  {
   "cell_type": "code",
   "execution_count": 80,
   "metadata": {},
   "outputs": [],
   "source": [
    "input_tif177 = '0177.TIF'\n",
    "res177 = non_zeros(input_tif177)"
   ]
  },
  {
   "cell_type": "code",
   "execution_count": 81,
   "metadata": {},
   "outputs": [],
   "source": [
    "input_tif178 = '0178.TIF'\n",
    "res178 = non_zeros(input_tif178)"
   ]
  },
  {
   "cell_type": "code",
   "execution_count": 82,
   "metadata": {},
   "outputs": [],
   "source": [
    "input_tif179 = '0179.TIF'\n",
    "res179 = non_zeros(input_tif179)"
   ]
  },
  {
   "cell_type": "code",
   "execution_count": 83,
   "metadata": {},
   "outputs": [],
   "source": [
    "input_tif180 = '0180.TIF'\n",
    "res180 = non_zeros(input_tif180)"
   ]
  },
  {
   "cell_type": "code",
   "execution_count": 84,
   "metadata": {},
   "outputs": [],
   "source": [
    "input_tif181 = '0181.TIF'\n",
    "res181 = non_zeros(input_tif181)"
   ]
  },
  {
   "cell_type": "code",
   "execution_count": 85,
   "metadata": {},
   "outputs": [],
   "source": [
    "input_tif182 = '0182.TIF'\n",
    "res182 = non_zeros(input_tif182)"
   ]
  },
  {
   "cell_type": "code",
   "execution_count": 86,
   "metadata": {},
   "outputs": [],
   "source": [
    "input_tif183 = '0183.TIF'\n",
    "res183 = non_zeros(input_tif183)"
   ]
  },
  {
   "cell_type": "code",
   "execution_count": 87,
   "metadata": {},
   "outputs": [],
   "source": [
    "input_tif184 = '0184.TIF'\n",
    "res184 = non_zeros(input_tif184)"
   ]
  },
  {
   "cell_type": "code",
   "execution_count": 88,
   "metadata": {},
   "outputs": [],
   "source": [
    "input_tif185 = '0185.TIF'\n",
    "res185 = non_zeros(input_tif185)"
   ]
  },
  {
   "cell_type": "code",
   "execution_count": 89,
   "metadata": {},
   "outputs": [],
   "source": [
    "input_tif186 = '0186.TIF'\n",
    "res186 = non_zeros(input_tif186)"
   ]
  },
  {
   "cell_type": "code",
   "execution_count": 90,
   "metadata": {},
   "outputs": [],
   "source": [
    "input_tif187 = '0187.TIF'\n",
    "res187 = non_zeros(input_tif187)"
   ]
  },
  {
   "cell_type": "code",
   "execution_count": 91,
   "metadata": {},
   "outputs": [],
   "source": [
    "input_tif188 = '0188.TIF'\n",
    "res188 = non_zeros(input_tif188)"
   ]
  },
  {
   "cell_type": "code",
   "execution_count": 92,
   "metadata": {},
   "outputs": [],
   "source": [
    "input_tif189 = '0189.TIF'\n",
    "res189 = non_zeros(input_tif189)"
   ]
  },
  {
   "cell_type": "code",
   "execution_count": 93,
   "metadata": {},
   "outputs": [],
   "source": [
    "input_tif190 = '0190.TIF'\n",
    "res190 = non_zeros(input_tif190)"
   ]
  },
  {
   "cell_type": "code",
   "execution_count": 94,
   "metadata": {},
   "outputs": [],
   "source": [
    "input_tif191 = '0191.TIF'\n",
    "res191 = non_zeros(input_tif191)"
   ]
  },
  {
   "cell_type": "code",
   "execution_count": 95,
   "metadata": {},
   "outputs": [],
   "source": [
    "input_tif192 = '0192.TIF'\n",
    "res192 = non_zeros(input_tif192)"
   ]
  },
  {
   "cell_type": "code",
   "execution_count": 96,
   "metadata": {},
   "outputs": [],
   "source": [
    "input_tif193 = '0193.TIF'\n",
    "res193 = non_zeros(input_tif193)"
   ]
  },
  {
   "cell_type": "code",
   "execution_count": 97,
   "metadata": {},
   "outputs": [],
   "source": [
    "input_tif194 = '0194.TIF'\n",
    "res194 = non_zeros(input_tif194)"
   ]
  },
  {
   "cell_type": "code",
   "execution_count": 98,
   "metadata": {},
   "outputs": [],
   "source": [
    "input_tif195 = '0195.TIF'\n",
    "res195 = non_zeros(input_tif195)"
   ]
  },
  {
   "cell_type": "code",
   "execution_count": 99,
   "metadata": {},
   "outputs": [],
   "source": [
    "input_tif196 = '0196.TIF'\n",
    "res196 = non_zeros(input_tif196)"
   ]
  },
  {
   "cell_type": "code",
   "execution_count": 100,
   "metadata": {},
   "outputs": [],
   "source": [
    "input_tif197 = '0197.TIF'\n",
    "res197 = non_zeros(input_tif197)"
   ]
  },
  {
   "cell_type": "code",
   "execution_count": 101,
   "metadata": {},
   "outputs": [],
   "source": [
    "input_tif198 = '0198.TIF'\n",
    "res198 = non_zeros(input_tif198)"
   ]
  },
  {
   "cell_type": "code",
   "execution_count": 102,
   "metadata": {},
   "outputs": [],
   "source": [
    "input_tif199 = '0199.TIF'\n",
    "res199 = non_zeros(input_tif199)"
   ]
  },
  {
   "cell_type": "code",
   "execution_count": 103,
   "metadata": {},
   "outputs": [],
   "source": [
    "input_tif200 = '0200.TIF'\n",
    "res200 = non_zeros(input_tif200)"
   ]
  },
  {
   "cell_type": "code",
   "execution_count": 104,
   "metadata": {},
   "outputs": [],
   "source": [
    "import pandas as pd\n",
    "res200_ = pd.concat([res101,res102,res103,res104,res105,res106,res107,res108, res109, res110, res111, res112, res113,res114,res115,res116,res117,res118,res119,res120,res121,res122,res123,res124,res125,res126,res127,res128,res129,res130,res131,res132,res133,res134,res135,res136,res137, res138,res139,res140,res141,res142,res143,res144,res145,res146,res147,res148,res149,res150,res151,res152,res153,res154,res155,res156,res157,res158,res159,res160,res161,res162,res163,res164,res165,res166,res167,res168,res169,res170,res171,res172,res173,res174,res175,res176,res177,res178,res179,res180,res181,res182,res183,res184,res185, res186, res187, res188, res189,res190, res191,res192, res193, res194, res195, res196, res197, res198, res199, res200], axis=1)"
   ]
  },
  {
   "cell_type": "code",
   "execution_count": null,
   "metadata": {},
   "outputs": [],
   "source": []
  },
  {
   "cell_type": "code",
   "execution_count": 105,
   "metadata": {},
   "outputs": [
    {
     "data": {
      "text/html": [
       "<div>\n",
       "<style scoped>\n",
       "    .dataframe tbody tr th:only-of-type {\n",
       "        vertical-align: middle;\n",
       "    }\n",
       "\n",
       "    .dataframe tbody tr th {\n",
       "        vertical-align: top;\n",
       "    }\n",
       "\n",
       "    .dataframe thead th {\n",
       "        text-align: right;\n",
       "    }\n",
       "</style>\n",
       "<table border=\"1\" class=\"dataframe\">\n",
       "  <thead>\n",
       "    <tr style=\"text-align: right;\">\n",
       "      <th></th>\n",
       "      <th>band101</th>\n",
       "      <th>band102</th>\n",
       "      <th>band103</th>\n",
       "      <th>band104</th>\n",
       "      <th>band105</th>\n",
       "      <th>band106</th>\n",
       "      <th>band107</th>\n",
       "      <th>band108</th>\n",
       "      <th>band109</th>\n",
       "      <th>band110</th>\n",
       "      <th>...</th>\n",
       "      <th>band191</th>\n",
       "      <th>band192</th>\n",
       "      <th>band193</th>\n",
       "      <th>band194</th>\n",
       "      <th>band195</th>\n",
       "      <th>band196</th>\n",
       "      <th>band197</th>\n",
       "      <th>band198</th>\n",
       "      <th>band199</th>\n",
       "      <th>band200</th>\n",
       "    </tr>\n",
       "  </thead>\n",
       "  <tbody>\n",
       "    <tr>\n",
       "      <th>8071</th>\n",
       "      <td>859.0</td>\n",
       "      <td>1302.0</td>\n",
       "      <td>1362.0</td>\n",
       "      <td>1372.0</td>\n",
       "      <td>1412.0</td>\n",
       "      <td>1417.0</td>\n",
       "      <td>1541.0</td>\n",
       "      <td>1610.0</td>\n",
       "      <td>1661.0</td>\n",
       "      <td>1640.0</td>\n",
       "      <td>...</td>\n",
       "      <td>131.0</td>\n",
       "      <td>167.0</td>\n",
       "      <td>184.0</td>\n",
       "      <td>191.0</td>\n",
       "      <td>205.0</td>\n",
       "      <td>206.0</td>\n",
       "      <td>192.0</td>\n",
       "      <td>189.0</td>\n",
       "      <td>212.0</td>\n",
       "      <td>205.0</td>\n",
       "    </tr>\n",
       "    <tr>\n",
       "      <th>8072</th>\n",
       "      <td>154.0</td>\n",
       "      <td>228.0</td>\n",
       "      <td>229.0</td>\n",
       "      <td>236.0</td>\n",
       "      <td>238.0</td>\n",
       "      <td>241.0</td>\n",
       "      <td>261.0</td>\n",
       "      <td>269.0</td>\n",
       "      <td>275.0</td>\n",
       "      <td>270.0</td>\n",
       "      <td>...</td>\n",
       "      <td>27.0</td>\n",
       "      <td>35.0</td>\n",
       "      <td>39.0</td>\n",
       "      <td>40.0</td>\n",
       "      <td>42.0</td>\n",
       "      <td>43.0</td>\n",
       "      <td>39.0</td>\n",
       "      <td>38.0</td>\n",
       "      <td>44.0</td>\n",
       "      <td>43.0</td>\n",
       "    </tr>\n",
       "    <tr>\n",
       "      <th>8076</th>\n",
       "      <td>2.0</td>\n",
       "      <td>3.0</td>\n",
       "      <td>4.0</td>\n",
       "      <td>4.0</td>\n",
       "      <td>4.0</td>\n",
       "      <td>4.0</td>\n",
       "      <td>4.0</td>\n",
       "      <td>4.0</td>\n",
       "      <td>5.0</td>\n",
       "      <td>5.0</td>\n",
       "      <td>...</td>\n",
       "      <td>NaN</td>\n",
       "      <td>NaN</td>\n",
       "      <td>NaN</td>\n",
       "      <td>NaN</td>\n",
       "      <td>NaN</td>\n",
       "      <td>NaN</td>\n",
       "      <td>NaN</td>\n",
       "      <td>NaN</td>\n",
       "      <td>NaN</td>\n",
       "      <td>NaN</td>\n",
       "    </tr>\n",
       "    <tr>\n",
       "      <th>9260</th>\n",
       "      <td>6.0</td>\n",
       "      <td>9.0</td>\n",
       "      <td>10.0</td>\n",
       "      <td>10.0</td>\n",
       "      <td>10.0</td>\n",
       "      <td>11.0</td>\n",
       "      <td>12.0</td>\n",
       "      <td>12.0</td>\n",
       "      <td>13.0</td>\n",
       "      <td>12.0</td>\n",
       "      <td>...</td>\n",
       "      <td>NaN</td>\n",
       "      <td>1.0</td>\n",
       "      <td>1.0</td>\n",
       "      <td>1.0</td>\n",
       "      <td>1.0</td>\n",
       "      <td>1.0</td>\n",
       "      <td>1.0</td>\n",
       "      <td>1.0</td>\n",
       "      <td>1.0</td>\n",
       "      <td>1.0</td>\n",
       "    </tr>\n",
       "    <tr>\n",
       "      <th>9262</th>\n",
       "      <td>1466.0</td>\n",
       "      <td>2277.0</td>\n",
       "      <td>2431.0</td>\n",
       "      <td>2443.0</td>\n",
       "      <td>2536.0</td>\n",
       "      <td>2516.0</td>\n",
       "      <td>2742.0</td>\n",
       "      <td>2884.0</td>\n",
       "      <td>2972.0</td>\n",
       "      <td>2978.0</td>\n",
       "      <td>...</td>\n",
       "      <td>215.0</td>\n",
       "      <td>273.0</td>\n",
       "      <td>290.0</td>\n",
       "      <td>304.0</td>\n",
       "      <td>334.0</td>\n",
       "      <td>336.0</td>\n",
       "      <td>313.0</td>\n",
       "      <td>311.0</td>\n",
       "      <td>347.0</td>\n",
       "      <td>333.0</td>\n",
       "    </tr>\n",
       "    <tr>\n",
       "      <th>...</th>\n",
       "      <td>...</td>\n",
       "      <td>...</td>\n",
       "      <td>...</td>\n",
       "      <td>...</td>\n",
       "      <td>...</td>\n",
       "      <td>...</td>\n",
       "      <td>...</td>\n",
       "      <td>...</td>\n",
       "      <td>...</td>\n",
       "      <td>...</td>\n",
       "      <td>...</td>\n",
       "      <td>...</td>\n",
       "      <td>...</td>\n",
       "      <td>...</td>\n",
       "      <td>...</td>\n",
       "      <td>...</td>\n",
       "      <td>...</td>\n",
       "      <td>...</td>\n",
       "      <td>...</td>\n",
       "      <td>...</td>\n",
       "      <td>...</td>\n",
       "    </tr>\n",
       "    <tr>\n",
       "      <th>4097282</th>\n",
       "      <td>1113.0</td>\n",
       "      <td>1815.0</td>\n",
       "      <td>2060.0</td>\n",
       "      <td>2032.0</td>\n",
       "      <td>2080.0</td>\n",
       "      <td>2097.0</td>\n",
       "      <td>2327.0</td>\n",
       "      <td>2485.0</td>\n",
       "      <td>2571.0</td>\n",
       "      <td>2537.0</td>\n",
       "      <td>...</td>\n",
       "      <td>52.0</td>\n",
       "      <td>70.0</td>\n",
       "      <td>99.0</td>\n",
       "      <td>101.0</td>\n",
       "      <td>108.0</td>\n",
       "      <td>106.0</td>\n",
       "      <td>113.0</td>\n",
       "      <td>122.0</td>\n",
       "      <td>114.0</td>\n",
       "      <td>116.0</td>\n",
       "    </tr>\n",
       "    <tr>\n",
       "      <th>4097283</th>\n",
       "      <td>1038.0</td>\n",
       "      <td>1710.0</td>\n",
       "      <td>1900.0</td>\n",
       "      <td>1844.0</td>\n",
       "      <td>1905.0</td>\n",
       "      <td>1919.0</td>\n",
       "      <td>2116.0</td>\n",
       "      <td>2261.0</td>\n",
       "      <td>2345.0</td>\n",
       "      <td>2348.0</td>\n",
       "      <td>...</td>\n",
       "      <td>30.0</td>\n",
       "      <td>42.0</td>\n",
       "      <td>71.0</td>\n",
       "      <td>71.0</td>\n",
       "      <td>85.0</td>\n",
       "      <td>82.0</td>\n",
       "      <td>84.0</td>\n",
       "      <td>90.0</td>\n",
       "      <td>75.0</td>\n",
       "      <td>71.0</td>\n",
       "    </tr>\n",
       "    <tr>\n",
       "      <th>4097284</th>\n",
       "      <td>1056.0</td>\n",
       "      <td>1729.0</td>\n",
       "      <td>1918.0</td>\n",
       "      <td>1886.0</td>\n",
       "      <td>1922.0</td>\n",
       "      <td>1938.0</td>\n",
       "      <td>2155.0</td>\n",
       "      <td>2258.0</td>\n",
       "      <td>2383.0</td>\n",
       "      <td>2392.0</td>\n",
       "      <td>...</td>\n",
       "      <td>25.0</td>\n",
       "      <td>38.0</td>\n",
       "      <td>64.0</td>\n",
       "      <td>73.0</td>\n",
       "      <td>74.0</td>\n",
       "      <td>77.0</td>\n",
       "      <td>85.0</td>\n",
       "      <td>85.0</td>\n",
       "      <td>68.0</td>\n",
       "      <td>65.0</td>\n",
       "    </tr>\n",
       "    <tr>\n",
       "      <th>4097285</th>\n",
       "      <td>1125.0</td>\n",
       "      <td>1853.0</td>\n",
       "      <td>2127.0</td>\n",
       "      <td>2098.0</td>\n",
       "      <td>2136.0</td>\n",
       "      <td>2149.0</td>\n",
       "      <td>2382.0</td>\n",
       "      <td>2523.0</td>\n",
       "      <td>2664.0</td>\n",
       "      <td>2605.0</td>\n",
       "      <td>...</td>\n",
       "      <td>55.0</td>\n",
       "      <td>71.0</td>\n",
       "      <td>93.0</td>\n",
       "      <td>110.0</td>\n",
       "      <td>95.0</td>\n",
       "      <td>96.0</td>\n",
       "      <td>105.0</td>\n",
       "      <td>115.0</td>\n",
       "      <td>107.0</td>\n",
       "      <td>103.0</td>\n",
       "    </tr>\n",
       "    <tr>\n",
       "      <th>4097286</th>\n",
       "      <td>890.0</td>\n",
       "      <td>1486.0</td>\n",
       "      <td>1719.0</td>\n",
       "      <td>1681.0</td>\n",
       "      <td>1742.0</td>\n",
       "      <td>1755.0</td>\n",
       "      <td>1915.0</td>\n",
       "      <td>2058.0</td>\n",
       "      <td>2160.0</td>\n",
       "      <td>2116.0</td>\n",
       "      <td>...</td>\n",
       "      <td>62.0</td>\n",
       "      <td>76.0</td>\n",
       "      <td>90.0</td>\n",
       "      <td>103.0</td>\n",
       "      <td>89.0</td>\n",
       "      <td>89.0</td>\n",
       "      <td>97.0</td>\n",
       "      <td>111.0</td>\n",
       "      <td>102.0</td>\n",
       "      <td>97.0</td>\n",
       "    </tr>\n",
       "  </tbody>\n",
       "</table>\n",
       "<p>889666 rows × 100 columns</p>\n",
       "</div>"
      ],
      "text/plain": [
       "         band101  band102  band103  band104  band105  band106  band107  \\\n",
       "8071       859.0   1302.0   1362.0   1372.0   1412.0   1417.0   1541.0   \n",
       "8072       154.0    228.0    229.0    236.0    238.0    241.0    261.0   \n",
       "8076         2.0      3.0      4.0      4.0      4.0      4.0      4.0   \n",
       "9260         6.0      9.0     10.0     10.0     10.0     11.0     12.0   \n",
       "9262      1466.0   2277.0   2431.0   2443.0   2536.0   2516.0   2742.0   \n",
       "...          ...      ...      ...      ...      ...      ...      ...   \n",
       "4097282   1113.0   1815.0   2060.0   2032.0   2080.0   2097.0   2327.0   \n",
       "4097283   1038.0   1710.0   1900.0   1844.0   1905.0   1919.0   2116.0   \n",
       "4097284   1056.0   1729.0   1918.0   1886.0   1922.0   1938.0   2155.0   \n",
       "4097285   1125.0   1853.0   2127.0   2098.0   2136.0   2149.0   2382.0   \n",
       "4097286    890.0   1486.0   1719.0   1681.0   1742.0   1755.0   1915.0   \n",
       "\n",
       "         band108  band109  band110  ...  band191  band192  band193  band194  \\\n",
       "8071      1610.0   1661.0   1640.0  ...    131.0    167.0    184.0    191.0   \n",
       "8072       269.0    275.0    270.0  ...     27.0     35.0     39.0     40.0   \n",
       "8076         4.0      5.0      5.0  ...      NaN      NaN      NaN      NaN   \n",
       "9260        12.0     13.0     12.0  ...      NaN      1.0      1.0      1.0   \n",
       "9262      2884.0   2972.0   2978.0  ...    215.0    273.0    290.0    304.0   \n",
       "...          ...      ...      ...  ...      ...      ...      ...      ...   \n",
       "4097282   2485.0   2571.0   2537.0  ...     52.0     70.0     99.0    101.0   \n",
       "4097283   2261.0   2345.0   2348.0  ...     30.0     42.0     71.0     71.0   \n",
       "4097284   2258.0   2383.0   2392.0  ...     25.0     38.0     64.0     73.0   \n",
       "4097285   2523.0   2664.0   2605.0  ...     55.0     71.0     93.0    110.0   \n",
       "4097286   2058.0   2160.0   2116.0  ...     62.0     76.0     90.0    103.0   \n",
       "\n",
       "         band195  band196  band197  band198  band199  band200  \n",
       "8071       205.0    206.0    192.0    189.0    212.0    205.0  \n",
       "8072        42.0     43.0     39.0     38.0     44.0     43.0  \n",
       "8076         NaN      NaN      NaN      NaN      NaN      NaN  \n",
       "9260         1.0      1.0      1.0      1.0      1.0      1.0  \n",
       "9262       334.0    336.0    313.0    311.0    347.0    333.0  \n",
       "...          ...      ...      ...      ...      ...      ...  \n",
       "4097282    108.0    106.0    113.0    122.0    114.0    116.0  \n",
       "4097283     85.0     82.0     84.0     90.0     75.0     71.0  \n",
       "4097284     74.0     77.0     85.0     85.0     68.0     65.0  \n",
       "4097285     95.0     96.0    105.0    115.0    107.0    103.0  \n",
       "4097286     89.0     89.0     97.0    111.0    102.0     97.0  \n",
       "\n",
       "[889666 rows x 100 columns]"
      ]
     },
     "execution_count": 105,
     "metadata": {},
     "output_type": "execute_result"
    }
   ],
   "source": [
    "res200_"
   ]
  },
  {
   "cell_type": "code",
   "execution_count": 106,
   "metadata": {},
   "outputs": [],
   "source": [
    "res200_ = res200_.fillna(0)"
   ]
  },
  {
   "cell_type": "code",
   "execution_count": 107,
   "metadata": {},
   "outputs": [
    {
     "data": {
      "text/html": [
       "<div>\n",
       "<style scoped>\n",
       "    .dataframe tbody tr th:only-of-type {\n",
       "        vertical-align: middle;\n",
       "    }\n",
       "\n",
       "    .dataframe tbody tr th {\n",
       "        vertical-align: top;\n",
       "    }\n",
       "\n",
       "    .dataframe thead th {\n",
       "        text-align: right;\n",
       "    }\n",
       "</style>\n",
       "<table border=\"1\" class=\"dataframe\">\n",
       "  <thead>\n",
       "    <tr style=\"text-align: right;\">\n",
       "      <th></th>\n",
       "      <th>band101</th>\n",
       "      <th>band102</th>\n",
       "      <th>band103</th>\n",
       "      <th>band104</th>\n",
       "      <th>band105</th>\n",
       "      <th>band106</th>\n",
       "      <th>band107</th>\n",
       "      <th>band108</th>\n",
       "      <th>band109</th>\n",
       "      <th>band110</th>\n",
       "      <th>...</th>\n",
       "      <th>band191</th>\n",
       "      <th>band192</th>\n",
       "      <th>band193</th>\n",
       "      <th>band194</th>\n",
       "      <th>band195</th>\n",
       "      <th>band196</th>\n",
       "      <th>band197</th>\n",
       "      <th>band198</th>\n",
       "      <th>band199</th>\n",
       "      <th>band200</th>\n",
       "    </tr>\n",
       "  </thead>\n",
       "  <tbody>\n",
       "    <tr>\n",
       "      <th>8071</th>\n",
       "      <td>859.0</td>\n",
       "      <td>1302.0</td>\n",
       "      <td>1362.0</td>\n",
       "      <td>1372.0</td>\n",
       "      <td>1412.0</td>\n",
       "      <td>1417.0</td>\n",
       "      <td>1541.0</td>\n",
       "      <td>1610.0</td>\n",
       "      <td>1661.0</td>\n",
       "      <td>1640.0</td>\n",
       "      <td>...</td>\n",
       "      <td>131.0</td>\n",
       "      <td>167.0</td>\n",
       "      <td>184.0</td>\n",
       "      <td>191.0</td>\n",
       "      <td>205.0</td>\n",
       "      <td>206.0</td>\n",
       "      <td>192.0</td>\n",
       "      <td>189.0</td>\n",
       "      <td>212.0</td>\n",
       "      <td>205.0</td>\n",
       "    </tr>\n",
       "    <tr>\n",
       "      <th>8072</th>\n",
       "      <td>154.0</td>\n",
       "      <td>228.0</td>\n",
       "      <td>229.0</td>\n",
       "      <td>236.0</td>\n",
       "      <td>238.0</td>\n",
       "      <td>241.0</td>\n",
       "      <td>261.0</td>\n",
       "      <td>269.0</td>\n",
       "      <td>275.0</td>\n",
       "      <td>270.0</td>\n",
       "      <td>...</td>\n",
       "      <td>27.0</td>\n",
       "      <td>35.0</td>\n",
       "      <td>39.0</td>\n",
       "      <td>40.0</td>\n",
       "      <td>42.0</td>\n",
       "      <td>43.0</td>\n",
       "      <td>39.0</td>\n",
       "      <td>38.0</td>\n",
       "      <td>44.0</td>\n",
       "      <td>43.0</td>\n",
       "    </tr>\n",
       "    <tr>\n",
       "      <th>8076</th>\n",
       "      <td>2.0</td>\n",
       "      <td>3.0</td>\n",
       "      <td>4.0</td>\n",
       "      <td>4.0</td>\n",
       "      <td>4.0</td>\n",
       "      <td>4.0</td>\n",
       "      <td>4.0</td>\n",
       "      <td>4.0</td>\n",
       "      <td>5.0</td>\n",
       "      <td>5.0</td>\n",
       "      <td>...</td>\n",
       "      <td>0.0</td>\n",
       "      <td>0.0</td>\n",
       "      <td>0.0</td>\n",
       "      <td>0.0</td>\n",
       "      <td>0.0</td>\n",
       "      <td>0.0</td>\n",
       "      <td>0.0</td>\n",
       "      <td>0.0</td>\n",
       "      <td>0.0</td>\n",
       "      <td>0.0</td>\n",
       "    </tr>\n",
       "    <tr>\n",
       "      <th>9260</th>\n",
       "      <td>6.0</td>\n",
       "      <td>9.0</td>\n",
       "      <td>10.0</td>\n",
       "      <td>10.0</td>\n",
       "      <td>10.0</td>\n",
       "      <td>11.0</td>\n",
       "      <td>12.0</td>\n",
       "      <td>12.0</td>\n",
       "      <td>13.0</td>\n",
       "      <td>12.0</td>\n",
       "      <td>...</td>\n",
       "      <td>0.0</td>\n",
       "      <td>1.0</td>\n",
       "      <td>1.0</td>\n",
       "      <td>1.0</td>\n",
       "      <td>1.0</td>\n",
       "      <td>1.0</td>\n",
       "      <td>1.0</td>\n",
       "      <td>1.0</td>\n",
       "      <td>1.0</td>\n",
       "      <td>1.0</td>\n",
       "    </tr>\n",
       "    <tr>\n",
       "      <th>9262</th>\n",
       "      <td>1466.0</td>\n",
       "      <td>2277.0</td>\n",
       "      <td>2431.0</td>\n",
       "      <td>2443.0</td>\n",
       "      <td>2536.0</td>\n",
       "      <td>2516.0</td>\n",
       "      <td>2742.0</td>\n",
       "      <td>2884.0</td>\n",
       "      <td>2972.0</td>\n",
       "      <td>2978.0</td>\n",
       "      <td>...</td>\n",
       "      <td>215.0</td>\n",
       "      <td>273.0</td>\n",
       "      <td>290.0</td>\n",
       "      <td>304.0</td>\n",
       "      <td>334.0</td>\n",
       "      <td>336.0</td>\n",
       "      <td>313.0</td>\n",
       "      <td>311.0</td>\n",
       "      <td>347.0</td>\n",
       "      <td>333.0</td>\n",
       "    </tr>\n",
       "    <tr>\n",
       "      <th>...</th>\n",
       "      <td>...</td>\n",
       "      <td>...</td>\n",
       "      <td>...</td>\n",
       "      <td>...</td>\n",
       "      <td>...</td>\n",
       "      <td>...</td>\n",
       "      <td>...</td>\n",
       "      <td>...</td>\n",
       "      <td>...</td>\n",
       "      <td>...</td>\n",
       "      <td>...</td>\n",
       "      <td>...</td>\n",
       "      <td>...</td>\n",
       "      <td>...</td>\n",
       "      <td>...</td>\n",
       "      <td>...</td>\n",
       "      <td>...</td>\n",
       "      <td>...</td>\n",
       "      <td>...</td>\n",
       "      <td>...</td>\n",
       "      <td>...</td>\n",
       "    </tr>\n",
       "    <tr>\n",
       "      <th>4097282</th>\n",
       "      <td>1113.0</td>\n",
       "      <td>1815.0</td>\n",
       "      <td>2060.0</td>\n",
       "      <td>2032.0</td>\n",
       "      <td>2080.0</td>\n",
       "      <td>2097.0</td>\n",
       "      <td>2327.0</td>\n",
       "      <td>2485.0</td>\n",
       "      <td>2571.0</td>\n",
       "      <td>2537.0</td>\n",
       "      <td>...</td>\n",
       "      <td>52.0</td>\n",
       "      <td>70.0</td>\n",
       "      <td>99.0</td>\n",
       "      <td>101.0</td>\n",
       "      <td>108.0</td>\n",
       "      <td>106.0</td>\n",
       "      <td>113.0</td>\n",
       "      <td>122.0</td>\n",
       "      <td>114.0</td>\n",
       "      <td>116.0</td>\n",
       "    </tr>\n",
       "    <tr>\n",
       "      <th>4097283</th>\n",
       "      <td>1038.0</td>\n",
       "      <td>1710.0</td>\n",
       "      <td>1900.0</td>\n",
       "      <td>1844.0</td>\n",
       "      <td>1905.0</td>\n",
       "      <td>1919.0</td>\n",
       "      <td>2116.0</td>\n",
       "      <td>2261.0</td>\n",
       "      <td>2345.0</td>\n",
       "      <td>2348.0</td>\n",
       "      <td>...</td>\n",
       "      <td>30.0</td>\n",
       "      <td>42.0</td>\n",
       "      <td>71.0</td>\n",
       "      <td>71.0</td>\n",
       "      <td>85.0</td>\n",
       "      <td>82.0</td>\n",
       "      <td>84.0</td>\n",
       "      <td>90.0</td>\n",
       "      <td>75.0</td>\n",
       "      <td>71.0</td>\n",
       "    </tr>\n",
       "    <tr>\n",
       "      <th>4097284</th>\n",
       "      <td>1056.0</td>\n",
       "      <td>1729.0</td>\n",
       "      <td>1918.0</td>\n",
       "      <td>1886.0</td>\n",
       "      <td>1922.0</td>\n",
       "      <td>1938.0</td>\n",
       "      <td>2155.0</td>\n",
       "      <td>2258.0</td>\n",
       "      <td>2383.0</td>\n",
       "      <td>2392.0</td>\n",
       "      <td>...</td>\n",
       "      <td>25.0</td>\n",
       "      <td>38.0</td>\n",
       "      <td>64.0</td>\n",
       "      <td>73.0</td>\n",
       "      <td>74.0</td>\n",
       "      <td>77.0</td>\n",
       "      <td>85.0</td>\n",
       "      <td>85.0</td>\n",
       "      <td>68.0</td>\n",
       "      <td>65.0</td>\n",
       "    </tr>\n",
       "    <tr>\n",
       "      <th>4097285</th>\n",
       "      <td>1125.0</td>\n",
       "      <td>1853.0</td>\n",
       "      <td>2127.0</td>\n",
       "      <td>2098.0</td>\n",
       "      <td>2136.0</td>\n",
       "      <td>2149.0</td>\n",
       "      <td>2382.0</td>\n",
       "      <td>2523.0</td>\n",
       "      <td>2664.0</td>\n",
       "      <td>2605.0</td>\n",
       "      <td>...</td>\n",
       "      <td>55.0</td>\n",
       "      <td>71.0</td>\n",
       "      <td>93.0</td>\n",
       "      <td>110.0</td>\n",
       "      <td>95.0</td>\n",
       "      <td>96.0</td>\n",
       "      <td>105.0</td>\n",
       "      <td>115.0</td>\n",
       "      <td>107.0</td>\n",
       "      <td>103.0</td>\n",
       "    </tr>\n",
       "    <tr>\n",
       "      <th>4097286</th>\n",
       "      <td>890.0</td>\n",
       "      <td>1486.0</td>\n",
       "      <td>1719.0</td>\n",
       "      <td>1681.0</td>\n",
       "      <td>1742.0</td>\n",
       "      <td>1755.0</td>\n",
       "      <td>1915.0</td>\n",
       "      <td>2058.0</td>\n",
       "      <td>2160.0</td>\n",
       "      <td>2116.0</td>\n",
       "      <td>...</td>\n",
       "      <td>62.0</td>\n",
       "      <td>76.0</td>\n",
       "      <td>90.0</td>\n",
       "      <td>103.0</td>\n",
       "      <td>89.0</td>\n",
       "      <td>89.0</td>\n",
       "      <td>97.0</td>\n",
       "      <td>111.0</td>\n",
       "      <td>102.0</td>\n",
       "      <td>97.0</td>\n",
       "    </tr>\n",
       "  </tbody>\n",
       "</table>\n",
       "<p>889666 rows × 100 columns</p>\n",
       "</div>"
      ],
      "text/plain": [
       "         band101  band102  band103  band104  band105  band106  band107  \\\n",
       "8071       859.0   1302.0   1362.0   1372.0   1412.0   1417.0   1541.0   \n",
       "8072       154.0    228.0    229.0    236.0    238.0    241.0    261.0   \n",
       "8076         2.0      3.0      4.0      4.0      4.0      4.0      4.0   \n",
       "9260         6.0      9.0     10.0     10.0     10.0     11.0     12.0   \n",
       "9262      1466.0   2277.0   2431.0   2443.0   2536.0   2516.0   2742.0   \n",
       "...          ...      ...      ...      ...      ...      ...      ...   \n",
       "4097282   1113.0   1815.0   2060.0   2032.0   2080.0   2097.0   2327.0   \n",
       "4097283   1038.0   1710.0   1900.0   1844.0   1905.0   1919.0   2116.0   \n",
       "4097284   1056.0   1729.0   1918.0   1886.0   1922.0   1938.0   2155.0   \n",
       "4097285   1125.0   1853.0   2127.0   2098.0   2136.0   2149.0   2382.0   \n",
       "4097286    890.0   1486.0   1719.0   1681.0   1742.0   1755.0   1915.0   \n",
       "\n",
       "         band108  band109  band110  ...  band191  band192  band193  band194  \\\n",
       "8071      1610.0   1661.0   1640.0  ...    131.0    167.0    184.0    191.0   \n",
       "8072       269.0    275.0    270.0  ...     27.0     35.0     39.0     40.0   \n",
       "8076         4.0      5.0      5.0  ...      0.0      0.0      0.0      0.0   \n",
       "9260        12.0     13.0     12.0  ...      0.0      1.0      1.0      1.0   \n",
       "9262      2884.0   2972.0   2978.0  ...    215.0    273.0    290.0    304.0   \n",
       "...          ...      ...      ...  ...      ...      ...      ...      ...   \n",
       "4097282   2485.0   2571.0   2537.0  ...     52.0     70.0     99.0    101.0   \n",
       "4097283   2261.0   2345.0   2348.0  ...     30.0     42.0     71.0     71.0   \n",
       "4097284   2258.0   2383.0   2392.0  ...     25.0     38.0     64.0     73.0   \n",
       "4097285   2523.0   2664.0   2605.0  ...     55.0     71.0     93.0    110.0   \n",
       "4097286   2058.0   2160.0   2116.0  ...     62.0     76.0     90.0    103.0   \n",
       "\n",
       "         band195  band196  band197  band198  band199  band200  \n",
       "8071       205.0    206.0    192.0    189.0    212.0    205.0  \n",
       "8072        42.0     43.0     39.0     38.0     44.0     43.0  \n",
       "8076         0.0      0.0      0.0      0.0      0.0      0.0  \n",
       "9260         1.0      1.0      1.0      1.0      1.0      1.0  \n",
       "9262       334.0    336.0    313.0    311.0    347.0    333.0  \n",
       "...          ...      ...      ...      ...      ...      ...  \n",
       "4097282    108.0    106.0    113.0    122.0    114.0    116.0  \n",
       "4097283     85.0     82.0     84.0     90.0     75.0     71.0  \n",
       "4097284     74.0     77.0     85.0     85.0     68.0     65.0  \n",
       "4097285     95.0     96.0    105.0    115.0    107.0    103.0  \n",
       "4097286     89.0     89.0     97.0    111.0    102.0     97.0  \n",
       "\n",
       "[889666 rows x 100 columns]"
      ]
     },
     "execution_count": 107,
     "metadata": {},
     "output_type": "execute_result"
    }
   ],
   "source": [
    "res200_"
   ]
  },
  {
   "cell_type": "code",
   "execution_count": 108,
   "metadata": {},
   "outputs": [],
   "source": [
    "input_tif201 = '0201.TIF'\n",
    "res201 = non_zeros(input_tif201)"
   ]
  },
  {
   "cell_type": "code",
   "execution_count": 109,
   "metadata": {},
   "outputs": [],
   "source": [
    "input_tif202 = '0202.TIF'\n",
    "res202 = non_zeros(input_tif202)"
   ]
  },
  {
   "cell_type": "code",
   "execution_count": 110,
   "metadata": {},
   "outputs": [],
   "source": [
    "input_tif203 = '0203.TIF'\n",
    "res203 = non_zeros(input_tif203)"
   ]
  },
  {
   "cell_type": "code",
   "execution_count": 111,
   "metadata": {},
   "outputs": [],
   "source": [
    "input_tif204 = '0204.TIF'\n",
    "res204 = non_zeros(input_tif204)"
   ]
  },
  {
   "cell_type": "code",
   "execution_count": 112,
   "metadata": {},
   "outputs": [],
   "source": [
    "input_tif205 = '0205.TIF'\n",
    "res205 = non_zeros(input_tif205)"
   ]
  },
  {
   "cell_type": "code",
   "execution_count": 113,
   "metadata": {},
   "outputs": [],
   "source": [
    "input_tif206 = '0206.TIF'\n",
    "res206 = non_zeros(input_tif206)"
   ]
  },
  {
   "cell_type": "code",
   "execution_count": 114,
   "metadata": {},
   "outputs": [],
   "source": [
    "input_tif207 = '0207.TIF'\n",
    "res207 = non_zeros(input_tif207)"
   ]
  },
  {
   "cell_type": "code",
   "execution_count": 115,
   "metadata": {},
   "outputs": [],
   "source": [
    "input_tif208 = '0208.TIF'\n",
    "res208 = non_zeros(input_tif208)"
   ]
  },
  {
   "cell_type": "code",
   "execution_count": 116,
   "metadata": {},
   "outputs": [],
   "source": [
    "input_tif209 = '0209.TIF'\n",
    "res209 = non_zeros(input_tif209)"
   ]
  },
  {
   "cell_type": "code",
   "execution_count": 117,
   "metadata": {},
   "outputs": [],
   "source": [
    "input_tif210 = '0210.TIF'\n",
    "res210 = non_zeros(input_tif210)"
   ]
  },
  {
   "cell_type": "code",
   "execution_count": 118,
   "metadata": {},
   "outputs": [],
   "source": [
    "input_tif211 = '0211.TIF'\n",
    "res211 = non_zeros(input_tif211)"
   ]
  },
  {
   "cell_type": "code",
   "execution_count": 119,
   "metadata": {},
   "outputs": [],
   "source": [
    "input_tif212 = '0212.TIF'\n",
    "res212 = non_zeros(input_tif212)"
   ]
  },
  {
   "cell_type": "code",
   "execution_count": 120,
   "metadata": {},
   "outputs": [],
   "source": [
    "input_tif213 = '0213.TIF'\n",
    "res213 = non_zeros(input_tif213)"
   ]
  },
  {
   "cell_type": "code",
   "execution_count": 121,
   "metadata": {},
   "outputs": [],
   "source": [
    "input_tif214 = '0214.TIF'\n",
    "res214 = non_zeros(input_tif214)"
   ]
  },
  {
   "cell_type": "code",
   "execution_count": 122,
   "metadata": {},
   "outputs": [],
   "source": [
    "input_tif215 = '0215.TIF'\n",
    "res215 = non_zeros(input_tif215)"
   ]
  },
  {
   "cell_type": "code",
   "execution_count": 123,
   "metadata": {},
   "outputs": [],
   "source": [
    "input_tif216 = '0216.TIF'\n",
    "res216 = non_zeros(input_tif216)"
   ]
  },
  {
   "cell_type": "code",
   "execution_count": 124,
   "metadata": {},
   "outputs": [],
   "source": [
    "input_tif217 = '0217.TIF'\n",
    "res217 = non_zeros(input_tif217)"
   ]
  },
  {
   "cell_type": "code",
   "execution_count": 125,
   "metadata": {},
   "outputs": [],
   "source": [
    "input_tif218 = '0218.TIF'\n",
    "res218 = non_zeros(input_tif218)"
   ]
  },
  {
   "cell_type": "code",
   "execution_count": 126,
   "metadata": {},
   "outputs": [],
   "source": [
    "input_tif219 = '0219.TIF'\n",
    "res219 = non_zeros(input_tif219)"
   ]
  },
  {
   "cell_type": "code",
   "execution_count": 127,
   "metadata": {},
   "outputs": [],
   "source": [
    "input_tif220 = '0220.TIF'\n",
    "res220 = non_zeros(input_tif220)"
   ]
  },
  {
   "cell_type": "code",
   "execution_count": 128,
   "metadata": {},
   "outputs": [],
   "source": [
    "input_tif221 = '0221.TIF'\n",
    "res221 = non_zeros(input_tif221)"
   ]
  },
  {
   "cell_type": "code",
   "execution_count": 129,
   "metadata": {},
   "outputs": [],
   "source": [
    "input_tif222 = '0222.TIF'\n",
    "res222 = non_zeros(input_tif222)"
   ]
  },
  {
   "cell_type": "code",
   "execution_count": 130,
   "metadata": {},
   "outputs": [],
   "source": [
    "input_tif223 = '0223.TIF'\n",
    "res223 = non_zeros(input_tif223)"
   ]
  },
  {
   "cell_type": "code",
   "execution_count": 131,
   "metadata": {},
   "outputs": [],
   "source": [
    "input_tif224 = '0224.TIF'\n",
    "res224 = non_zeros(input_tif224)"
   ]
  },
  {
   "cell_type": "code",
   "execution_count": 132,
   "metadata": {},
   "outputs": [],
   "source": [
    "input_tif225 = '0225.TIF'\n",
    "res225 = non_zeros(input_tif225)"
   ]
  },
  {
   "cell_type": "code",
   "execution_count": 133,
   "metadata": {},
   "outputs": [],
   "source": [
    "input_tif226 = '0226.TIF'\n",
    "res226 = non_zeros(input_tif226)"
   ]
  },
  {
   "cell_type": "code",
   "execution_count": 134,
   "metadata": {},
   "outputs": [],
   "source": [
    "input_tif227 = '0227.TIF'\n",
    "res227 = non_zeros(input_tif227)"
   ]
  },
  {
   "cell_type": "code",
   "execution_count": 135,
   "metadata": {},
   "outputs": [],
   "source": [
    "input_tif228 = '0228.TIF'\n",
    "res228 = non_zeros(input_tif228)"
   ]
  },
  {
   "cell_type": "code",
   "execution_count": 136,
   "metadata": {},
   "outputs": [],
   "source": [
    "input_tif229 = '0229.TIF'\n",
    "res229 = non_zeros(input_tif229)"
   ]
  },
  {
   "cell_type": "code",
   "execution_count": 137,
   "metadata": {},
   "outputs": [],
   "source": [
    "input_tif230 = '0230.TIF'\n",
    "res230 = non_zeros(input_tif230)"
   ]
  },
  {
   "cell_type": "code",
   "execution_count": 138,
   "metadata": {},
   "outputs": [],
   "source": [
    "input_tif231 = '0231.TIF'\n",
    "res231 = non_zeros(input_tif231)"
   ]
  },
  {
   "cell_type": "code",
   "execution_count": 139,
   "metadata": {},
   "outputs": [],
   "source": [
    "input_tif232 = '0232.TIF'\n",
    "res232 = non_zeros(input_tif232)"
   ]
  },
  {
   "cell_type": "code",
   "execution_count": 140,
   "metadata": {},
   "outputs": [],
   "source": [
    "input_tif233 = '0233.TIF'\n",
    "res233 = non_zeros(input_tif233)"
   ]
  },
  {
   "cell_type": "code",
   "execution_count": 141,
   "metadata": {},
   "outputs": [],
   "source": [
    "input_tif234 = '0234.TIF'\n",
    "res234 = non_zeros(input_tif234)"
   ]
  },
  {
   "cell_type": "code",
   "execution_count": 142,
   "metadata": {},
   "outputs": [],
   "source": [
    "input_tif235 = '0235.TIF'\n",
    "res235 = non_zeros(input_tif235)"
   ]
  },
  {
   "cell_type": "code",
   "execution_count": 143,
   "metadata": {},
   "outputs": [],
   "source": [
    "input_tif236 = '0236.TIF'\n",
    "res236 = non_zeros(input_tif236)"
   ]
  },
  {
   "cell_type": "code",
   "execution_count": 144,
   "metadata": {},
   "outputs": [],
   "source": [
    "input_tif237 = '0237.TIF'\n",
    "res237 = non_zeros(input_tif237)"
   ]
  },
  {
   "cell_type": "code",
   "execution_count": 145,
   "metadata": {},
   "outputs": [],
   "source": [
    "input_tif238 = '0238.TIF'\n",
    "res238 = non_zeros(input_tif238)"
   ]
  },
  {
   "cell_type": "code",
   "execution_count": 146,
   "metadata": {},
   "outputs": [],
   "source": [
    "input_tif239 = '0239.TIF'\n",
    "res239 = non_zeros(input_tif239)"
   ]
  },
  {
   "cell_type": "code",
   "execution_count": 147,
   "metadata": {},
   "outputs": [],
   "source": [
    "input_tif240 = '0240.TIF'\n",
    "res240 = non_zeros(input_tif240)"
   ]
  },
  {
   "cell_type": "code",
   "execution_count": 148,
   "metadata": {},
   "outputs": [],
   "source": [
    "input_tif241 = '0241.TIF'\n",
    "res241 = non_zeros(input_tif241)"
   ]
  },
  {
   "cell_type": "code",
   "execution_count": 149,
   "metadata": {},
   "outputs": [],
   "source": [
    "input_tif242 = '0242.TIF'\n",
    "res242 = non_zeros(input_tif242)"
   ]
  },
  {
   "cell_type": "code",
   "execution_count": 150,
   "metadata": {},
   "outputs": [],
   "source": [
    "import pandas as pd\n",
    "res242_ = pd.concat([res201,res202, res203, res204, res205, res206, res207, res208, res209, res210, res211,res212,res213, res214, res215, res216, res217, res218, res219, res220,res221,res222,res223,res224,res225,res226,res227,res228,res229,res230,res231,res232,res233, res234, res235,res236, res237, res238,res239,res240,res241,res242\n",
    "                  ], axis=1)\n"
   ]
  },
  {
   "cell_type": "code",
   "execution_count": 151,
   "metadata": {},
   "outputs": [
    {
     "data": {
      "text/html": [
       "<div>\n",
       "<style scoped>\n",
       "    .dataframe tbody tr th:only-of-type {\n",
       "        vertical-align: middle;\n",
       "    }\n",
       "\n",
       "    .dataframe tbody tr th {\n",
       "        vertical-align: top;\n",
       "    }\n",
       "\n",
       "    .dataframe thead th {\n",
       "        text-align: right;\n",
       "    }\n",
       "</style>\n",
       "<table border=\"1\" class=\"dataframe\">\n",
       "  <thead>\n",
       "    <tr style=\"text-align: right;\">\n",
       "      <th></th>\n",
       "      <th>band201</th>\n",
       "      <th>band202</th>\n",
       "      <th>band203</th>\n",
       "      <th>band204</th>\n",
       "      <th>band205</th>\n",
       "      <th>band206</th>\n",
       "      <th>band207</th>\n",
       "      <th>band208</th>\n",
       "      <th>band209</th>\n",
       "      <th>band210</th>\n",
       "      <th>...</th>\n",
       "      <th>band233</th>\n",
       "      <th>band234</th>\n",
       "      <th>band235</th>\n",
       "      <th>band236</th>\n",
       "      <th>band237</th>\n",
       "      <th>band238</th>\n",
       "      <th>band239</th>\n",
       "      <th>band240</th>\n",
       "      <th>band241</th>\n",
       "      <th>band242</th>\n",
       "    </tr>\n",
       "  </thead>\n",
       "  <tbody>\n",
       "    <tr>\n",
       "      <th>8071</th>\n",
       "      <td>181.0</td>\n",
       "      <td>178.0</td>\n",
       "      <td>181.0</td>\n",
       "      <td>178.0</td>\n",
       "      <td>166.0</td>\n",
       "      <td>174.0</td>\n",
       "      <td>169.0</td>\n",
       "      <td>167.0</td>\n",
       "      <td>154.0</td>\n",
       "      <td>141.0</td>\n",
       "      <td>...</td>\n",
       "      <td>0.0</td>\n",
       "      <td>0.0</td>\n",
       "      <td>0.0</td>\n",
       "      <td>0.0</td>\n",
       "      <td>0.0</td>\n",
       "      <td>0.0</td>\n",
       "      <td>0.0</td>\n",
       "      <td>0.0</td>\n",
       "      <td>0.0</td>\n",
       "      <td>0.0</td>\n",
       "    </tr>\n",
       "    <tr>\n",
       "      <th>8072</th>\n",
       "      <td>37.0</td>\n",
       "      <td>37.0</td>\n",
       "      <td>36.0</td>\n",
       "      <td>36.0</td>\n",
       "      <td>34.0</td>\n",
       "      <td>35.0</td>\n",
       "      <td>34.0</td>\n",
       "      <td>33.0</td>\n",
       "      <td>31.0</td>\n",
       "      <td>29.0</td>\n",
       "      <td>...</td>\n",
       "      <td>0.0</td>\n",
       "      <td>0.0</td>\n",
       "      <td>0.0</td>\n",
       "      <td>0.0</td>\n",
       "      <td>0.0</td>\n",
       "      <td>0.0</td>\n",
       "      <td>0.0</td>\n",
       "      <td>0.0</td>\n",
       "      <td>0.0</td>\n",
       "      <td>0.0</td>\n",
       "    </tr>\n",
       "    <tr>\n",
       "      <th>9260</th>\n",
       "      <td>1.0</td>\n",
       "      <td>1.0</td>\n",
       "      <td>1.0</td>\n",
       "      <td>1.0</td>\n",
       "      <td>1.0</td>\n",
       "      <td>1.0</td>\n",
       "      <td>1.0</td>\n",
       "      <td>1.0</td>\n",
       "      <td>1.0</td>\n",
       "      <td>1.0</td>\n",
       "      <td>...</td>\n",
       "      <td>0.0</td>\n",
       "      <td>0.0</td>\n",
       "      <td>0.0</td>\n",
       "      <td>0.0</td>\n",
       "      <td>0.0</td>\n",
       "      <td>0.0</td>\n",
       "      <td>0.0</td>\n",
       "      <td>0.0</td>\n",
       "      <td>0.0</td>\n",
       "      <td>0.0</td>\n",
       "    </tr>\n",
       "    <tr>\n",
       "      <th>9262</th>\n",
       "      <td>289.0</td>\n",
       "      <td>285.0</td>\n",
       "      <td>305.0</td>\n",
       "      <td>294.0</td>\n",
       "      <td>275.0</td>\n",
       "      <td>291.0</td>\n",
       "      <td>285.0</td>\n",
       "      <td>279.0</td>\n",
       "      <td>247.0</td>\n",
       "      <td>226.0</td>\n",
       "      <td>...</td>\n",
       "      <td>1.0</td>\n",
       "      <td>1.0</td>\n",
       "      <td>1.0</td>\n",
       "      <td>1.0</td>\n",
       "      <td>1.0</td>\n",
       "      <td>1.0</td>\n",
       "      <td>1.0</td>\n",
       "      <td>1.0</td>\n",
       "      <td>1.0</td>\n",
       "      <td>1.0</td>\n",
       "    </tr>\n",
       "    <tr>\n",
       "      <th>9263</th>\n",
       "      <td>162.0</td>\n",
       "      <td>155.0</td>\n",
       "      <td>178.0</td>\n",
       "      <td>169.0</td>\n",
       "      <td>153.0</td>\n",
       "      <td>162.0</td>\n",
       "      <td>164.0</td>\n",
       "      <td>158.0</td>\n",
       "      <td>141.0</td>\n",
       "      <td>128.0</td>\n",
       "      <td>...</td>\n",
       "      <td>1.0</td>\n",
       "      <td>1.0</td>\n",
       "      <td>1.0</td>\n",
       "      <td>1.0</td>\n",
       "      <td>1.0</td>\n",
       "      <td>1.0</td>\n",
       "      <td>1.0</td>\n",
       "      <td>1.0</td>\n",
       "      <td>1.0</td>\n",
       "      <td>1.0</td>\n",
       "    </tr>\n",
       "    <tr>\n",
       "      <th>...</th>\n",
       "      <td>...</td>\n",
       "      <td>...</td>\n",
       "      <td>...</td>\n",
       "      <td>...</td>\n",
       "      <td>...</td>\n",
       "      <td>...</td>\n",
       "      <td>...</td>\n",
       "      <td>...</td>\n",
       "      <td>...</td>\n",
       "      <td>...</td>\n",
       "      <td>...</td>\n",
       "      <td>...</td>\n",
       "      <td>...</td>\n",
       "      <td>...</td>\n",
       "      <td>...</td>\n",
       "      <td>...</td>\n",
       "      <td>...</td>\n",
       "      <td>...</td>\n",
       "      <td>...</td>\n",
       "      <td>...</td>\n",
       "      <td>...</td>\n",
       "    </tr>\n",
       "    <tr>\n",
       "      <th>4097282</th>\n",
       "      <td>108.0</td>\n",
       "      <td>113.0</td>\n",
       "      <td>107.0</td>\n",
       "      <td>106.0</td>\n",
       "      <td>110.0</td>\n",
       "      <td>115.0</td>\n",
       "      <td>108.0</td>\n",
       "      <td>101.0</td>\n",
       "      <td>94.0</td>\n",
       "      <td>88.0</td>\n",
       "      <td>...</td>\n",
       "      <td>1.0</td>\n",
       "      <td>1.0</td>\n",
       "      <td>1.0</td>\n",
       "      <td>1.0</td>\n",
       "      <td>1.0</td>\n",
       "      <td>1.0</td>\n",
       "      <td>1.0</td>\n",
       "      <td>1.0</td>\n",
       "      <td>1.0</td>\n",
       "      <td>1.0</td>\n",
       "    </tr>\n",
       "    <tr>\n",
       "      <th>4097283</th>\n",
       "      <td>90.0</td>\n",
       "      <td>92.0</td>\n",
       "      <td>66.0</td>\n",
       "      <td>70.0</td>\n",
       "      <td>68.0</td>\n",
       "      <td>77.0</td>\n",
       "      <td>74.0</td>\n",
       "      <td>65.0</td>\n",
       "      <td>66.0</td>\n",
       "      <td>60.0</td>\n",
       "      <td>...</td>\n",
       "      <td>1.0</td>\n",
       "      <td>1.0</td>\n",
       "      <td>1.0</td>\n",
       "      <td>1.0</td>\n",
       "      <td>1.0</td>\n",
       "      <td>1.0</td>\n",
       "      <td>1.0</td>\n",
       "      <td>1.0</td>\n",
       "      <td>1.0</td>\n",
       "      <td>1.0</td>\n",
       "    </tr>\n",
       "    <tr>\n",
       "      <th>4097284</th>\n",
       "      <td>89.0</td>\n",
       "      <td>97.0</td>\n",
       "      <td>67.0</td>\n",
       "      <td>66.0</td>\n",
       "      <td>63.0</td>\n",
       "      <td>70.0</td>\n",
       "      <td>72.0</td>\n",
       "      <td>68.0</td>\n",
       "      <td>60.0</td>\n",
       "      <td>56.0</td>\n",
       "      <td>...</td>\n",
       "      <td>1.0</td>\n",
       "      <td>1.0</td>\n",
       "      <td>1.0</td>\n",
       "      <td>1.0</td>\n",
       "      <td>1.0</td>\n",
       "      <td>1.0</td>\n",
       "      <td>1.0</td>\n",
       "      <td>1.0</td>\n",
       "      <td>1.0</td>\n",
       "      <td>1.0</td>\n",
       "    </tr>\n",
       "    <tr>\n",
       "      <th>4097285</th>\n",
       "      <td>118.0</td>\n",
       "      <td>122.0</td>\n",
       "      <td>97.0</td>\n",
       "      <td>98.0</td>\n",
       "      <td>99.0</td>\n",
       "      <td>99.0</td>\n",
       "      <td>106.0</td>\n",
       "      <td>99.0</td>\n",
       "      <td>91.0</td>\n",
       "      <td>82.0</td>\n",
       "      <td>...</td>\n",
       "      <td>1.0</td>\n",
       "      <td>1.0</td>\n",
       "      <td>1.0</td>\n",
       "      <td>1.0</td>\n",
       "      <td>1.0</td>\n",
       "      <td>1.0</td>\n",
       "      <td>1.0</td>\n",
       "      <td>1.0</td>\n",
       "      <td>1.0</td>\n",
       "      <td>1.0</td>\n",
       "    </tr>\n",
       "    <tr>\n",
       "      <th>4097286</th>\n",
       "      <td>111.0</td>\n",
       "      <td>110.0</td>\n",
       "      <td>94.0</td>\n",
       "      <td>94.0</td>\n",
       "      <td>96.0</td>\n",
       "      <td>98.0</td>\n",
       "      <td>100.0</td>\n",
       "      <td>94.0</td>\n",
       "      <td>90.0</td>\n",
       "      <td>79.0</td>\n",
       "      <td>...</td>\n",
       "      <td>1.0</td>\n",
       "      <td>1.0</td>\n",
       "      <td>1.0</td>\n",
       "      <td>1.0</td>\n",
       "      <td>1.0</td>\n",
       "      <td>1.0</td>\n",
       "      <td>1.0</td>\n",
       "      <td>1.0</td>\n",
       "      <td>1.0</td>\n",
       "      <td>1.0</td>\n",
       "    </tr>\n",
       "  </tbody>\n",
       "</table>\n",
       "<p>888336 rows × 42 columns</p>\n",
       "</div>"
      ],
      "text/plain": [
       "         band201  band202  band203  band204  band205  band206  band207  \\\n",
       "8071       181.0    178.0    181.0    178.0    166.0    174.0    169.0   \n",
       "8072        37.0     37.0     36.0     36.0     34.0     35.0     34.0   \n",
       "9260         1.0      1.0      1.0      1.0      1.0      1.0      1.0   \n",
       "9262       289.0    285.0    305.0    294.0    275.0    291.0    285.0   \n",
       "9263       162.0    155.0    178.0    169.0    153.0    162.0    164.0   \n",
       "...          ...      ...      ...      ...      ...      ...      ...   \n",
       "4097282    108.0    113.0    107.0    106.0    110.0    115.0    108.0   \n",
       "4097283     90.0     92.0     66.0     70.0     68.0     77.0     74.0   \n",
       "4097284     89.0     97.0     67.0     66.0     63.0     70.0     72.0   \n",
       "4097285    118.0    122.0     97.0     98.0     99.0     99.0    106.0   \n",
       "4097286    111.0    110.0     94.0     94.0     96.0     98.0    100.0   \n",
       "\n",
       "         band208  band209  band210  ...  band233  band234  band235  band236  \\\n",
       "8071       167.0    154.0    141.0  ...      0.0      0.0      0.0      0.0   \n",
       "8072        33.0     31.0     29.0  ...      0.0      0.0      0.0      0.0   \n",
       "9260         1.0      1.0      1.0  ...      0.0      0.0      0.0      0.0   \n",
       "9262       279.0    247.0    226.0  ...      1.0      1.0      1.0      1.0   \n",
       "9263       158.0    141.0    128.0  ...      1.0      1.0      1.0      1.0   \n",
       "...          ...      ...      ...  ...      ...      ...      ...      ...   \n",
       "4097282    101.0     94.0     88.0  ...      1.0      1.0      1.0      1.0   \n",
       "4097283     65.0     66.0     60.0  ...      1.0      1.0      1.0      1.0   \n",
       "4097284     68.0     60.0     56.0  ...      1.0      1.0      1.0      1.0   \n",
       "4097285     99.0     91.0     82.0  ...      1.0      1.0      1.0      1.0   \n",
       "4097286     94.0     90.0     79.0  ...      1.0      1.0      1.0      1.0   \n",
       "\n",
       "         band237  band238  band239  band240  band241  band242  \n",
       "8071         0.0      0.0      0.0      0.0      0.0      0.0  \n",
       "8072         0.0      0.0      0.0      0.0      0.0      0.0  \n",
       "9260         0.0      0.0      0.0      0.0      0.0      0.0  \n",
       "9262         1.0      1.0      1.0      1.0      1.0      1.0  \n",
       "9263         1.0      1.0      1.0      1.0      1.0      1.0  \n",
       "...          ...      ...      ...      ...      ...      ...  \n",
       "4097282      1.0      1.0      1.0      1.0      1.0      1.0  \n",
       "4097283      1.0      1.0      1.0      1.0      1.0      1.0  \n",
       "4097284      1.0      1.0      1.0      1.0      1.0      1.0  \n",
       "4097285      1.0      1.0      1.0      1.0      1.0      1.0  \n",
       "4097286      1.0      1.0      1.0      1.0      1.0      1.0  \n",
       "\n",
       "[888336 rows x 42 columns]"
      ]
     },
     "execution_count": 151,
     "metadata": {},
     "output_type": "execute_result"
    }
   ],
   "source": [
    "res242_.fillna(0)"
   ]
  },
  {
   "cell_type": "code",
   "execution_count": null,
   "metadata": {},
   "outputs": [],
   "source": []
  },
  {
   "cell_type": "code",
   "execution_count": null,
   "metadata": {},
   "outputs": [],
   "source": []
  },
  {
   "cell_type": "code",
   "execution_count": null,
   "metadata": {},
   "outputs": [],
   "source": []
  },
  {
   "cell_type": "code",
   "execution_count": null,
   "metadata": {},
   "outputs": [],
   "source": []
  },
  {
   "cell_type": "code",
   "execution_count": 152,
   "metadata": {},
   "outputs": [],
   "source": [
    "import pandas as pd\n",
    "final = pd.concat([res200_,res242_], axis=1)\n"
   ]
  },
  {
   "cell_type": "code",
   "execution_count": null,
   "metadata": {},
   "outputs": [],
   "source": []
  },
  {
   "cell_type": "code",
   "execution_count": 153,
   "metadata": {},
   "outputs": [],
   "source": [
    "final = final.fillna(0)"
   ]
  },
  {
   "cell_type": "code",
   "execution_count": 154,
   "metadata": {},
   "outputs": [
    {
     "data": {
      "text/html": [
       "<div>\n",
       "<style scoped>\n",
       "    .dataframe tbody tr th:only-of-type {\n",
       "        vertical-align: middle;\n",
       "    }\n",
       "\n",
       "    .dataframe tbody tr th {\n",
       "        vertical-align: top;\n",
       "    }\n",
       "\n",
       "    .dataframe thead th {\n",
       "        text-align: right;\n",
       "    }\n",
       "</style>\n",
       "<table border=\"1\" class=\"dataframe\">\n",
       "  <thead>\n",
       "    <tr style=\"text-align: right;\">\n",
       "      <th></th>\n",
       "      <th>band101</th>\n",
       "      <th>band102</th>\n",
       "      <th>band103</th>\n",
       "      <th>band104</th>\n",
       "      <th>band105</th>\n",
       "      <th>band106</th>\n",
       "      <th>band107</th>\n",
       "      <th>band108</th>\n",
       "      <th>band109</th>\n",
       "      <th>band110</th>\n",
       "      <th>...</th>\n",
       "      <th>band233</th>\n",
       "      <th>band234</th>\n",
       "      <th>band235</th>\n",
       "      <th>band236</th>\n",
       "      <th>band237</th>\n",
       "      <th>band238</th>\n",
       "      <th>band239</th>\n",
       "      <th>band240</th>\n",
       "      <th>band241</th>\n",
       "      <th>band242</th>\n",
       "    </tr>\n",
       "  </thead>\n",
       "  <tbody>\n",
       "    <tr>\n",
       "      <th>8071</th>\n",
       "      <td>859.0</td>\n",
       "      <td>1302.0</td>\n",
       "      <td>1362.0</td>\n",
       "      <td>1372.0</td>\n",
       "      <td>1412.0</td>\n",
       "      <td>1417.0</td>\n",
       "      <td>1541.0</td>\n",
       "      <td>1610.0</td>\n",
       "      <td>1661.0</td>\n",
       "      <td>1640.0</td>\n",
       "      <td>...</td>\n",
       "      <td>0.0</td>\n",
       "      <td>0.0</td>\n",
       "      <td>0.0</td>\n",
       "      <td>0.0</td>\n",
       "      <td>0.0</td>\n",
       "      <td>0.0</td>\n",
       "      <td>0.0</td>\n",
       "      <td>0.0</td>\n",
       "      <td>0.0</td>\n",
       "      <td>0.0</td>\n",
       "    </tr>\n",
       "    <tr>\n",
       "      <th>8072</th>\n",
       "      <td>154.0</td>\n",
       "      <td>228.0</td>\n",
       "      <td>229.0</td>\n",
       "      <td>236.0</td>\n",
       "      <td>238.0</td>\n",
       "      <td>241.0</td>\n",
       "      <td>261.0</td>\n",
       "      <td>269.0</td>\n",
       "      <td>275.0</td>\n",
       "      <td>270.0</td>\n",
       "      <td>...</td>\n",
       "      <td>0.0</td>\n",
       "      <td>0.0</td>\n",
       "      <td>0.0</td>\n",
       "      <td>0.0</td>\n",
       "      <td>0.0</td>\n",
       "      <td>0.0</td>\n",
       "      <td>0.0</td>\n",
       "      <td>0.0</td>\n",
       "      <td>0.0</td>\n",
       "      <td>0.0</td>\n",
       "    </tr>\n",
       "    <tr>\n",
       "      <th>8076</th>\n",
       "      <td>2.0</td>\n",
       "      <td>3.0</td>\n",
       "      <td>4.0</td>\n",
       "      <td>4.0</td>\n",
       "      <td>4.0</td>\n",
       "      <td>4.0</td>\n",
       "      <td>4.0</td>\n",
       "      <td>4.0</td>\n",
       "      <td>5.0</td>\n",
       "      <td>5.0</td>\n",
       "      <td>...</td>\n",
       "      <td>0.0</td>\n",
       "      <td>0.0</td>\n",
       "      <td>0.0</td>\n",
       "      <td>0.0</td>\n",
       "      <td>0.0</td>\n",
       "      <td>0.0</td>\n",
       "      <td>0.0</td>\n",
       "      <td>0.0</td>\n",
       "      <td>0.0</td>\n",
       "      <td>0.0</td>\n",
       "    </tr>\n",
       "    <tr>\n",
       "      <th>9260</th>\n",
       "      <td>6.0</td>\n",
       "      <td>9.0</td>\n",
       "      <td>10.0</td>\n",
       "      <td>10.0</td>\n",
       "      <td>10.0</td>\n",
       "      <td>11.0</td>\n",
       "      <td>12.0</td>\n",
       "      <td>12.0</td>\n",
       "      <td>13.0</td>\n",
       "      <td>12.0</td>\n",
       "      <td>...</td>\n",
       "      <td>0.0</td>\n",
       "      <td>0.0</td>\n",
       "      <td>0.0</td>\n",
       "      <td>0.0</td>\n",
       "      <td>0.0</td>\n",
       "      <td>0.0</td>\n",
       "      <td>0.0</td>\n",
       "      <td>0.0</td>\n",
       "      <td>0.0</td>\n",
       "      <td>0.0</td>\n",
       "    </tr>\n",
       "    <tr>\n",
       "      <th>9262</th>\n",
       "      <td>1466.0</td>\n",
       "      <td>2277.0</td>\n",
       "      <td>2431.0</td>\n",
       "      <td>2443.0</td>\n",
       "      <td>2536.0</td>\n",
       "      <td>2516.0</td>\n",
       "      <td>2742.0</td>\n",
       "      <td>2884.0</td>\n",
       "      <td>2972.0</td>\n",
       "      <td>2978.0</td>\n",
       "      <td>...</td>\n",
       "      <td>1.0</td>\n",
       "      <td>1.0</td>\n",
       "      <td>1.0</td>\n",
       "      <td>1.0</td>\n",
       "      <td>1.0</td>\n",
       "      <td>1.0</td>\n",
       "      <td>1.0</td>\n",
       "      <td>1.0</td>\n",
       "      <td>1.0</td>\n",
       "      <td>1.0</td>\n",
       "    </tr>\n",
       "    <tr>\n",
       "      <th>...</th>\n",
       "      <td>...</td>\n",
       "      <td>...</td>\n",
       "      <td>...</td>\n",
       "      <td>...</td>\n",
       "      <td>...</td>\n",
       "      <td>...</td>\n",
       "      <td>...</td>\n",
       "      <td>...</td>\n",
       "      <td>...</td>\n",
       "      <td>...</td>\n",
       "      <td>...</td>\n",
       "      <td>...</td>\n",
       "      <td>...</td>\n",
       "      <td>...</td>\n",
       "      <td>...</td>\n",
       "      <td>...</td>\n",
       "      <td>...</td>\n",
       "      <td>...</td>\n",
       "      <td>...</td>\n",
       "      <td>...</td>\n",
       "      <td>...</td>\n",
       "    </tr>\n",
       "    <tr>\n",
       "      <th>4097282</th>\n",
       "      <td>1113.0</td>\n",
       "      <td>1815.0</td>\n",
       "      <td>2060.0</td>\n",
       "      <td>2032.0</td>\n",
       "      <td>2080.0</td>\n",
       "      <td>2097.0</td>\n",
       "      <td>2327.0</td>\n",
       "      <td>2485.0</td>\n",
       "      <td>2571.0</td>\n",
       "      <td>2537.0</td>\n",
       "      <td>...</td>\n",
       "      <td>1.0</td>\n",
       "      <td>1.0</td>\n",
       "      <td>1.0</td>\n",
       "      <td>1.0</td>\n",
       "      <td>1.0</td>\n",
       "      <td>1.0</td>\n",
       "      <td>1.0</td>\n",
       "      <td>1.0</td>\n",
       "      <td>1.0</td>\n",
       "      <td>1.0</td>\n",
       "    </tr>\n",
       "    <tr>\n",
       "      <th>4097283</th>\n",
       "      <td>1038.0</td>\n",
       "      <td>1710.0</td>\n",
       "      <td>1900.0</td>\n",
       "      <td>1844.0</td>\n",
       "      <td>1905.0</td>\n",
       "      <td>1919.0</td>\n",
       "      <td>2116.0</td>\n",
       "      <td>2261.0</td>\n",
       "      <td>2345.0</td>\n",
       "      <td>2348.0</td>\n",
       "      <td>...</td>\n",
       "      <td>1.0</td>\n",
       "      <td>1.0</td>\n",
       "      <td>1.0</td>\n",
       "      <td>1.0</td>\n",
       "      <td>1.0</td>\n",
       "      <td>1.0</td>\n",
       "      <td>1.0</td>\n",
       "      <td>1.0</td>\n",
       "      <td>1.0</td>\n",
       "      <td>1.0</td>\n",
       "    </tr>\n",
       "    <tr>\n",
       "      <th>4097284</th>\n",
       "      <td>1056.0</td>\n",
       "      <td>1729.0</td>\n",
       "      <td>1918.0</td>\n",
       "      <td>1886.0</td>\n",
       "      <td>1922.0</td>\n",
       "      <td>1938.0</td>\n",
       "      <td>2155.0</td>\n",
       "      <td>2258.0</td>\n",
       "      <td>2383.0</td>\n",
       "      <td>2392.0</td>\n",
       "      <td>...</td>\n",
       "      <td>1.0</td>\n",
       "      <td>1.0</td>\n",
       "      <td>1.0</td>\n",
       "      <td>1.0</td>\n",
       "      <td>1.0</td>\n",
       "      <td>1.0</td>\n",
       "      <td>1.0</td>\n",
       "      <td>1.0</td>\n",
       "      <td>1.0</td>\n",
       "      <td>1.0</td>\n",
       "    </tr>\n",
       "    <tr>\n",
       "      <th>4097285</th>\n",
       "      <td>1125.0</td>\n",
       "      <td>1853.0</td>\n",
       "      <td>2127.0</td>\n",
       "      <td>2098.0</td>\n",
       "      <td>2136.0</td>\n",
       "      <td>2149.0</td>\n",
       "      <td>2382.0</td>\n",
       "      <td>2523.0</td>\n",
       "      <td>2664.0</td>\n",
       "      <td>2605.0</td>\n",
       "      <td>...</td>\n",
       "      <td>1.0</td>\n",
       "      <td>1.0</td>\n",
       "      <td>1.0</td>\n",
       "      <td>1.0</td>\n",
       "      <td>1.0</td>\n",
       "      <td>1.0</td>\n",
       "      <td>1.0</td>\n",
       "      <td>1.0</td>\n",
       "      <td>1.0</td>\n",
       "      <td>1.0</td>\n",
       "    </tr>\n",
       "    <tr>\n",
       "      <th>4097286</th>\n",
       "      <td>890.0</td>\n",
       "      <td>1486.0</td>\n",
       "      <td>1719.0</td>\n",
       "      <td>1681.0</td>\n",
       "      <td>1742.0</td>\n",
       "      <td>1755.0</td>\n",
       "      <td>1915.0</td>\n",
       "      <td>2058.0</td>\n",
       "      <td>2160.0</td>\n",
       "      <td>2116.0</td>\n",
       "      <td>...</td>\n",
       "      <td>1.0</td>\n",
       "      <td>1.0</td>\n",
       "      <td>1.0</td>\n",
       "      <td>1.0</td>\n",
       "      <td>1.0</td>\n",
       "      <td>1.0</td>\n",
       "      <td>1.0</td>\n",
       "      <td>1.0</td>\n",
       "      <td>1.0</td>\n",
       "      <td>1.0</td>\n",
       "    </tr>\n",
       "  </tbody>\n",
       "</table>\n",
       "<p>889688 rows × 142 columns</p>\n",
       "</div>"
      ],
      "text/plain": [
       "         band101  band102  band103  band104  band105  band106  band107  \\\n",
       "8071       859.0   1302.0   1362.0   1372.0   1412.0   1417.0   1541.0   \n",
       "8072       154.0    228.0    229.0    236.0    238.0    241.0    261.0   \n",
       "8076         2.0      3.0      4.0      4.0      4.0      4.0      4.0   \n",
       "9260         6.0      9.0     10.0     10.0     10.0     11.0     12.0   \n",
       "9262      1466.0   2277.0   2431.0   2443.0   2536.0   2516.0   2742.0   \n",
       "...          ...      ...      ...      ...      ...      ...      ...   \n",
       "4097282   1113.0   1815.0   2060.0   2032.0   2080.0   2097.0   2327.0   \n",
       "4097283   1038.0   1710.0   1900.0   1844.0   1905.0   1919.0   2116.0   \n",
       "4097284   1056.0   1729.0   1918.0   1886.0   1922.0   1938.0   2155.0   \n",
       "4097285   1125.0   1853.0   2127.0   2098.0   2136.0   2149.0   2382.0   \n",
       "4097286    890.0   1486.0   1719.0   1681.0   1742.0   1755.0   1915.0   \n",
       "\n",
       "         band108  band109  band110  ...  band233  band234  band235  band236  \\\n",
       "8071      1610.0   1661.0   1640.0  ...      0.0      0.0      0.0      0.0   \n",
       "8072       269.0    275.0    270.0  ...      0.0      0.0      0.0      0.0   \n",
       "8076         4.0      5.0      5.0  ...      0.0      0.0      0.0      0.0   \n",
       "9260        12.0     13.0     12.0  ...      0.0      0.0      0.0      0.0   \n",
       "9262      2884.0   2972.0   2978.0  ...      1.0      1.0      1.0      1.0   \n",
       "...          ...      ...      ...  ...      ...      ...      ...      ...   \n",
       "4097282   2485.0   2571.0   2537.0  ...      1.0      1.0      1.0      1.0   \n",
       "4097283   2261.0   2345.0   2348.0  ...      1.0      1.0      1.0      1.0   \n",
       "4097284   2258.0   2383.0   2392.0  ...      1.0      1.0      1.0      1.0   \n",
       "4097285   2523.0   2664.0   2605.0  ...      1.0      1.0      1.0      1.0   \n",
       "4097286   2058.0   2160.0   2116.0  ...      1.0      1.0      1.0      1.0   \n",
       "\n",
       "         band237  band238  band239  band240  band241  band242  \n",
       "8071         0.0      0.0      0.0      0.0      0.0      0.0  \n",
       "8072         0.0      0.0      0.0      0.0      0.0      0.0  \n",
       "8076         0.0      0.0      0.0      0.0      0.0      0.0  \n",
       "9260         0.0      0.0      0.0      0.0      0.0      0.0  \n",
       "9262         1.0      1.0      1.0      1.0      1.0      1.0  \n",
       "...          ...      ...      ...      ...      ...      ...  \n",
       "4097282      1.0      1.0      1.0      1.0      1.0      1.0  \n",
       "4097283      1.0      1.0      1.0      1.0      1.0      1.0  \n",
       "4097284      1.0      1.0      1.0      1.0      1.0      1.0  \n",
       "4097285      1.0      1.0      1.0      1.0      1.0      1.0  \n",
       "4097286      1.0      1.0      1.0      1.0      1.0      1.0  \n",
       "\n",
       "[889688 rows x 142 columns]"
      ]
     },
     "execution_count": 154,
     "metadata": {},
     "output_type": "execute_result"
    }
   ],
   "source": [
    "final"
   ]
  },
  {
   "cell_type": "code",
   "execution_count": 155,
   "metadata": {},
   "outputs": [],
   "source": [
    "final = final.astype(int, errors='ignore')"
   ]
  },
  {
   "cell_type": "code",
   "execution_count": 156,
   "metadata": {
    "scrolled": true
   },
   "outputs": [
    {
     "data": {
      "text/html": [
       "<div>\n",
       "<style scoped>\n",
       "    .dataframe tbody tr th:only-of-type {\n",
       "        vertical-align: middle;\n",
       "    }\n",
       "\n",
       "    .dataframe tbody tr th {\n",
       "        vertical-align: top;\n",
       "    }\n",
       "\n",
       "    .dataframe thead th {\n",
       "        text-align: right;\n",
       "    }\n",
       "</style>\n",
       "<table border=\"1\" class=\"dataframe\">\n",
       "  <thead>\n",
       "    <tr style=\"text-align: right;\">\n",
       "      <th></th>\n",
       "      <th>band101</th>\n",
       "      <th>band102</th>\n",
       "      <th>band103</th>\n",
       "      <th>band104</th>\n",
       "      <th>band105</th>\n",
       "      <th>band106</th>\n",
       "      <th>band107</th>\n",
       "      <th>band108</th>\n",
       "      <th>band109</th>\n",
       "      <th>band110</th>\n",
       "      <th>...</th>\n",
       "      <th>band233</th>\n",
       "      <th>band234</th>\n",
       "      <th>band235</th>\n",
       "      <th>band236</th>\n",
       "      <th>band237</th>\n",
       "      <th>band238</th>\n",
       "      <th>band239</th>\n",
       "      <th>band240</th>\n",
       "      <th>band241</th>\n",
       "      <th>band242</th>\n",
       "    </tr>\n",
       "  </thead>\n",
       "  <tbody>\n",
       "    <tr>\n",
       "      <th>8071</th>\n",
       "      <td>859</td>\n",
       "      <td>1302</td>\n",
       "      <td>1362</td>\n",
       "      <td>1372</td>\n",
       "      <td>1412</td>\n",
       "      <td>1417</td>\n",
       "      <td>1541</td>\n",
       "      <td>1610</td>\n",
       "      <td>1661</td>\n",
       "      <td>1640</td>\n",
       "      <td>...</td>\n",
       "      <td>0</td>\n",
       "      <td>0</td>\n",
       "      <td>0</td>\n",
       "      <td>0</td>\n",
       "      <td>0</td>\n",
       "      <td>0</td>\n",
       "      <td>0</td>\n",
       "      <td>0</td>\n",
       "      <td>0</td>\n",
       "      <td>0</td>\n",
       "    </tr>\n",
       "    <tr>\n",
       "      <th>8072</th>\n",
       "      <td>154</td>\n",
       "      <td>228</td>\n",
       "      <td>229</td>\n",
       "      <td>236</td>\n",
       "      <td>238</td>\n",
       "      <td>241</td>\n",
       "      <td>261</td>\n",
       "      <td>269</td>\n",
       "      <td>275</td>\n",
       "      <td>270</td>\n",
       "      <td>...</td>\n",
       "      <td>0</td>\n",
       "      <td>0</td>\n",
       "      <td>0</td>\n",
       "      <td>0</td>\n",
       "      <td>0</td>\n",
       "      <td>0</td>\n",
       "      <td>0</td>\n",
       "      <td>0</td>\n",
       "      <td>0</td>\n",
       "      <td>0</td>\n",
       "    </tr>\n",
       "    <tr>\n",
       "      <th>8076</th>\n",
       "      <td>2</td>\n",
       "      <td>3</td>\n",
       "      <td>4</td>\n",
       "      <td>4</td>\n",
       "      <td>4</td>\n",
       "      <td>4</td>\n",
       "      <td>4</td>\n",
       "      <td>4</td>\n",
       "      <td>5</td>\n",
       "      <td>5</td>\n",
       "      <td>...</td>\n",
       "      <td>0</td>\n",
       "      <td>0</td>\n",
       "      <td>0</td>\n",
       "      <td>0</td>\n",
       "      <td>0</td>\n",
       "      <td>0</td>\n",
       "      <td>0</td>\n",
       "      <td>0</td>\n",
       "      <td>0</td>\n",
       "      <td>0</td>\n",
       "    </tr>\n",
       "    <tr>\n",
       "      <th>9260</th>\n",
       "      <td>6</td>\n",
       "      <td>9</td>\n",
       "      <td>10</td>\n",
       "      <td>10</td>\n",
       "      <td>10</td>\n",
       "      <td>11</td>\n",
       "      <td>12</td>\n",
       "      <td>12</td>\n",
       "      <td>13</td>\n",
       "      <td>12</td>\n",
       "      <td>...</td>\n",
       "      <td>0</td>\n",
       "      <td>0</td>\n",
       "      <td>0</td>\n",
       "      <td>0</td>\n",
       "      <td>0</td>\n",
       "      <td>0</td>\n",
       "      <td>0</td>\n",
       "      <td>0</td>\n",
       "      <td>0</td>\n",
       "      <td>0</td>\n",
       "    </tr>\n",
       "    <tr>\n",
       "      <th>9262</th>\n",
       "      <td>1466</td>\n",
       "      <td>2277</td>\n",
       "      <td>2431</td>\n",
       "      <td>2443</td>\n",
       "      <td>2536</td>\n",
       "      <td>2516</td>\n",
       "      <td>2742</td>\n",
       "      <td>2884</td>\n",
       "      <td>2972</td>\n",
       "      <td>2978</td>\n",
       "      <td>...</td>\n",
       "      <td>1</td>\n",
       "      <td>1</td>\n",
       "      <td>1</td>\n",
       "      <td>1</td>\n",
       "      <td>1</td>\n",
       "      <td>1</td>\n",
       "      <td>1</td>\n",
       "      <td>1</td>\n",
       "      <td>1</td>\n",
       "      <td>1</td>\n",
       "    </tr>\n",
       "    <tr>\n",
       "      <th>...</th>\n",
       "      <td>...</td>\n",
       "      <td>...</td>\n",
       "      <td>...</td>\n",
       "      <td>...</td>\n",
       "      <td>...</td>\n",
       "      <td>...</td>\n",
       "      <td>...</td>\n",
       "      <td>...</td>\n",
       "      <td>...</td>\n",
       "      <td>...</td>\n",
       "      <td>...</td>\n",
       "      <td>...</td>\n",
       "      <td>...</td>\n",
       "      <td>...</td>\n",
       "      <td>...</td>\n",
       "      <td>...</td>\n",
       "      <td>...</td>\n",
       "      <td>...</td>\n",
       "      <td>...</td>\n",
       "      <td>...</td>\n",
       "      <td>...</td>\n",
       "    </tr>\n",
       "    <tr>\n",
       "      <th>4097282</th>\n",
       "      <td>1113</td>\n",
       "      <td>1815</td>\n",
       "      <td>2060</td>\n",
       "      <td>2032</td>\n",
       "      <td>2080</td>\n",
       "      <td>2097</td>\n",
       "      <td>2327</td>\n",
       "      <td>2485</td>\n",
       "      <td>2571</td>\n",
       "      <td>2537</td>\n",
       "      <td>...</td>\n",
       "      <td>1</td>\n",
       "      <td>1</td>\n",
       "      <td>1</td>\n",
       "      <td>1</td>\n",
       "      <td>1</td>\n",
       "      <td>1</td>\n",
       "      <td>1</td>\n",
       "      <td>1</td>\n",
       "      <td>1</td>\n",
       "      <td>1</td>\n",
       "    </tr>\n",
       "    <tr>\n",
       "      <th>4097283</th>\n",
       "      <td>1038</td>\n",
       "      <td>1710</td>\n",
       "      <td>1900</td>\n",
       "      <td>1844</td>\n",
       "      <td>1905</td>\n",
       "      <td>1919</td>\n",
       "      <td>2116</td>\n",
       "      <td>2261</td>\n",
       "      <td>2345</td>\n",
       "      <td>2348</td>\n",
       "      <td>...</td>\n",
       "      <td>1</td>\n",
       "      <td>1</td>\n",
       "      <td>1</td>\n",
       "      <td>1</td>\n",
       "      <td>1</td>\n",
       "      <td>1</td>\n",
       "      <td>1</td>\n",
       "      <td>1</td>\n",
       "      <td>1</td>\n",
       "      <td>1</td>\n",
       "    </tr>\n",
       "    <tr>\n",
       "      <th>4097284</th>\n",
       "      <td>1056</td>\n",
       "      <td>1729</td>\n",
       "      <td>1918</td>\n",
       "      <td>1886</td>\n",
       "      <td>1922</td>\n",
       "      <td>1938</td>\n",
       "      <td>2155</td>\n",
       "      <td>2258</td>\n",
       "      <td>2383</td>\n",
       "      <td>2392</td>\n",
       "      <td>...</td>\n",
       "      <td>1</td>\n",
       "      <td>1</td>\n",
       "      <td>1</td>\n",
       "      <td>1</td>\n",
       "      <td>1</td>\n",
       "      <td>1</td>\n",
       "      <td>1</td>\n",
       "      <td>1</td>\n",
       "      <td>1</td>\n",
       "      <td>1</td>\n",
       "    </tr>\n",
       "    <tr>\n",
       "      <th>4097285</th>\n",
       "      <td>1125</td>\n",
       "      <td>1853</td>\n",
       "      <td>2127</td>\n",
       "      <td>2098</td>\n",
       "      <td>2136</td>\n",
       "      <td>2149</td>\n",
       "      <td>2382</td>\n",
       "      <td>2523</td>\n",
       "      <td>2664</td>\n",
       "      <td>2605</td>\n",
       "      <td>...</td>\n",
       "      <td>1</td>\n",
       "      <td>1</td>\n",
       "      <td>1</td>\n",
       "      <td>1</td>\n",
       "      <td>1</td>\n",
       "      <td>1</td>\n",
       "      <td>1</td>\n",
       "      <td>1</td>\n",
       "      <td>1</td>\n",
       "      <td>1</td>\n",
       "    </tr>\n",
       "    <tr>\n",
       "      <th>4097286</th>\n",
       "      <td>890</td>\n",
       "      <td>1486</td>\n",
       "      <td>1719</td>\n",
       "      <td>1681</td>\n",
       "      <td>1742</td>\n",
       "      <td>1755</td>\n",
       "      <td>1915</td>\n",
       "      <td>2058</td>\n",
       "      <td>2160</td>\n",
       "      <td>2116</td>\n",
       "      <td>...</td>\n",
       "      <td>1</td>\n",
       "      <td>1</td>\n",
       "      <td>1</td>\n",
       "      <td>1</td>\n",
       "      <td>1</td>\n",
       "      <td>1</td>\n",
       "      <td>1</td>\n",
       "      <td>1</td>\n",
       "      <td>1</td>\n",
       "      <td>1</td>\n",
       "    </tr>\n",
       "  </tbody>\n",
       "</table>\n",
       "<p>889688 rows × 142 columns</p>\n",
       "</div>"
      ],
      "text/plain": [
       "         band101  band102  band103  band104  band105  band106  band107  \\\n",
       "8071         859     1302     1362     1372     1412     1417     1541   \n",
       "8072         154      228      229      236      238      241      261   \n",
       "8076           2        3        4        4        4        4        4   \n",
       "9260           6        9       10       10       10       11       12   \n",
       "9262        1466     2277     2431     2443     2536     2516     2742   \n",
       "...          ...      ...      ...      ...      ...      ...      ...   \n",
       "4097282     1113     1815     2060     2032     2080     2097     2327   \n",
       "4097283     1038     1710     1900     1844     1905     1919     2116   \n",
       "4097284     1056     1729     1918     1886     1922     1938     2155   \n",
       "4097285     1125     1853     2127     2098     2136     2149     2382   \n",
       "4097286      890     1486     1719     1681     1742     1755     1915   \n",
       "\n",
       "         band108  band109  band110  ...  band233  band234  band235  band236  \\\n",
       "8071        1610     1661     1640  ...        0        0        0        0   \n",
       "8072         269      275      270  ...        0        0        0        0   \n",
       "8076           4        5        5  ...        0        0        0        0   \n",
       "9260          12       13       12  ...        0        0        0        0   \n",
       "9262        2884     2972     2978  ...        1        1        1        1   \n",
       "...          ...      ...      ...  ...      ...      ...      ...      ...   \n",
       "4097282     2485     2571     2537  ...        1        1        1        1   \n",
       "4097283     2261     2345     2348  ...        1        1        1        1   \n",
       "4097284     2258     2383     2392  ...        1        1        1        1   \n",
       "4097285     2523     2664     2605  ...        1        1        1        1   \n",
       "4097286     2058     2160     2116  ...        1        1        1        1   \n",
       "\n",
       "         band237  band238  band239  band240  band241  band242  \n",
       "8071           0        0        0        0        0        0  \n",
       "8072           0        0        0        0        0        0  \n",
       "8076           0        0        0        0        0        0  \n",
       "9260           0        0        0        0        0        0  \n",
       "9262           1        1        1        1        1        1  \n",
       "...          ...      ...      ...      ...      ...      ...  \n",
       "4097282        1        1        1        1        1        1  \n",
       "4097283        1        1        1        1        1        1  \n",
       "4097284        1        1        1        1        1        1  \n",
       "4097285        1        1        1        1        1        1  \n",
       "4097286        1        1        1        1        1        1  \n",
       "\n",
       "[889688 rows x 142 columns]"
      ]
     },
     "execution_count": 156,
     "metadata": {},
     "output_type": "execute_result"
    }
   ],
   "source": [
    "final"
   ]
  },
  {
   "cell_type": "code",
   "execution_count": 174,
   "metadata": {},
   "outputs": [
    {
     "name": "stdout",
     "output_type": "stream",
     "text": [
      "101\n",
      "102\n",
      "103\n",
      "104\n",
      "105\n",
      "106\n",
      "107\n",
      "108\n",
      "109\n",
      "110\n",
      "111\n",
      "112\n",
      "113\n",
      "114\n",
      "115\n",
      "116\n",
      "117\n",
      "118\n",
      "119\n",
      "120\n",
      "121\n",
      "122\n",
      "123\n",
      "124\n",
      "125\n",
      "126\n",
      "127\n",
      "128\n",
      "129\n",
      "130\n",
      "131\n",
      "132\n",
      "133\n",
      "134\n",
      "135\n",
      "136\n",
      "137\n",
      "138\n",
      "139\n",
      "140\n",
      "141\n",
      "142\n",
      "143\n",
      "144\n",
      "145\n",
      "146\n",
      "147\n",
      "148\n",
      "149\n",
      "150\n",
      "151\n",
      "152\n",
      "153\n",
      "154\n",
      "155\n",
      "156\n",
      "157\n",
      "158\n",
      "159\n",
      "160\n",
      "161\n",
      "162\n",
      "163\n",
      "164\n",
      "165\n",
      "166\n",
      "167\n",
      "168\n",
      "169\n",
      "170\n",
      "171\n",
      "172\n",
      "173\n",
      "174\n",
      "175\n",
      "176\n",
      "177\n",
      "178\n",
      "179\n",
      "180\n",
      "181\n",
      "182\n",
      "183\n",
      "184\n",
      "185\n",
      "186\n",
      "187\n",
      "188\n",
      "189\n",
      "190\n",
      "191\n",
      "192\n",
      "193\n",
      "194\n",
      "195\n",
      "196\n",
      "197\n",
      "198\n",
      "199\n",
      "200\n",
      "201\n",
      "202\n",
      "203\n",
      "204\n",
      "205\n",
      "206\n",
      "207\n",
      "208\n",
      "209\n",
      "210\n",
      "211\n",
      "212\n",
      "213\n",
      "214\n",
      "215\n",
      "216\n",
      "217\n",
      "218\n",
      "219\n",
      "220\n",
      "221\n",
      "222\n",
      "223\n",
      "224\n",
      "225\n",
      "226\n",
      "227\n",
      "228\n",
      "229\n",
      "230\n",
      "231\n",
      "232\n",
      "233\n",
      "234\n",
      "235\n",
      "236\n",
      "237\n",
      "238\n",
      "239\n",
      "240\n",
      "241\n",
      "242\n",
      "list of principle components =  [8.05140049e-01 1.35188202e-01 3.24037071e-02 1.06000677e-02\n",
      " 3.37419267e-03 2.23008366e-03 1.11978058e-03 8.41862102e-04\n",
      " 6.77685723e-04 5.71619638e-04]\n"
     ]
    },
    {
     "data": {
      "image/png": "[encoded data removed]",
      "text/plain": [
       "<Figure size 432x288 with 1 Axes>"
      ]
     },
     "metadata": {
      "needs_background": "light"
     },
     "output_type": "display_data"
    }
   ],
   "source": [
    "# Plot varience:\n",
    "from matplotlib import pyplot as plt\n",
    "\n",
    "\n",
    "n=[]\n",
    "ind=[]\n",
    "for i in range(100, 242):     # 242 = number of bands\n",
    "    n.append(i+1)\n",
    "    \n",
    "    \n",
    "for i in range(142):\n",
    "    ind.append('band'+str(n[i]))\n",
    "    \n",
    "\n",
    "features = ind\n",
    "x = final.loc[:, features].values\n",
    "from sklearn.preprocessing import MinMaxScaler\n",
    "scaler_model = MinMaxScaler()\n",
    "scaler_model.fit(x.astype(float))\n",
    "x=scaler_model.transform(x)\n",
    "from sklearn.decomposition import PCA\n",
    "\n",
    "\n",
    "## Finding the principle components\n",
    "pca = PCA(n_components=10)\n",
    "principalComponents = pca.fit_transform(x)\n",
    "ev=pca.explained_variance_ratio_\n",
    "\n",
    "print(\"list of principle components = \", ev)\n",
    "\n",
    "#--------- Bar Graph for Explained Variance Ratio ------------\n",
    "plt.bar([1,2,3,4,5,6,7,8,9,10],list(ev*100),label='Principal Components',color='b')\n",
    "plt.legend()\n",
    "plt.xlabel('Principal Components')\n",
    "pc=[]\n",
    "for i in range(10):\n",
    "    pc.append('PC'+str(i+1))\n",
    "#plt.xticks([1,2,3,4,5,6,7,8,9,10],pc, fontsize=8, rotation=30)\n",
    "plt.xticks([1,2,3,4,5,6,7,8,9,10],pc, fontsize=8, rotation=30)\n",
    "plt.ylabel('Variance Ratio')\n",
    "plt.title('Variance Ratio of Hyperspectral Dataset')\n",
    "plt.show()\n"
   ]
  },
  {
   "cell_type": "code",
   "execution_count": 178,
   "metadata": {},
   "outputs": [
    {
     "data": {
      "text/plain": [
       "[80.51400494464762,\n",
       " 13.518820200565598,\n",
       " 3.240370708700735,\n",
       " 1.0600067696948334,\n",
       " 0.3374192669681718,\n",
       " 0.22300836629647472,\n",
       " 0.11197805788869057,\n",
       " 0.08418621016550477,\n",
       " 0.06776857226267204,\n",
       " 0.057161963753935605]"
      ]
     },
     "execution_count": 178,
     "metadata": {},
     "output_type": "execute_result"
    }
   ],
   "source": [
    "list(ev*100)"
   ]
  },
  {
   "cell_type": "code",
   "execution_count": 181,
   "metadata": {},
   "outputs": [
    {
     "name": "stdout",
     "output_type": "stream",
     "text": [
      "all principle components =  0.8051400494464762 0.13518820200565598 0.03240370708700735 0.010600067696948334 0.0033741926696817183 0.0022300836629647472 0.0011197805788869058 0.0008418621016550477 0.0006776857226267204 0.000571619637539356\n",
      "selected [80.51400494464762, 13.518820200565598, 3.240370708700735, 1.0600067696948334]\n",
      "number of selected components 4\n"
     ]
    }
   ],
   "source": [
    "print(\"all principle components = \", ev[0],ev[1],ev[2],ev[3],ev[4],ev[5],ev[6],ev[7],ev[8],ev[9])\n",
    "\n",
    "selected_PC=[]\n",
    "for elem in ev:\n",
    "    comp = elem * 100\n",
    "    \n",
    "    if comp > 1:\n",
    "        selected_PC.append(comp)\n",
    "\n",
    "n_components = len(selected_PC)\n",
    "print(\"selected\", selected_PC)\n",
    "print(\"number of selected components\", n_components)"
   ]
  },
  {
   "cell_type": "code",
   "execution_count": 182,
   "metadata": {},
   "outputs": [],
   "source": [
    "from sklearn.decomposition import PCA\n",
    "pca = PCA(n_components = n_components)     # default = 4\n",
    "dt = pca.fit_transform(final.iloc[:, :-1].values)\n",
    "q = pd.concat([pd.DataFrame(data = dt)] )\n"
   ]
  },
  {
   "cell_type": "code",
   "execution_count": 183,
   "metadata": {},
   "outputs": [
    {
     "data": {
      "text/html": [
       "<div>\n",
       "<style scoped>\n",
       "    .dataframe tbody tr th:only-of-type {\n",
       "        vertical-align: middle;\n",
       "    }\n",
       "\n",
       "    .dataframe tbody tr th {\n",
       "        vertical-align: top;\n",
       "    }\n",
       "\n",
       "    .dataframe thead th {\n",
       "        text-align: right;\n",
       "    }\n",
       "</style>\n",
       "<table border=\"1\" class=\"dataframe\">\n",
       "  <thead>\n",
       "    <tr style=\"text-align: right;\">\n",
       "      <th></th>\n",
       "      <th>0</th>\n",
       "      <th>1</th>\n",
       "      <th>2</th>\n",
       "      <th>3</th>\n",
       "    </tr>\n",
       "  </thead>\n",
       "  <tbody>\n",
       "    <tr>\n",
       "      <th>0</th>\n",
       "      <td>-2653.876329</td>\n",
       "      <td>1396.904075</td>\n",
       "      <td>291.983418</td>\n",
       "      <td>-138.548318</td>\n",
       "    </tr>\n",
       "    <tr>\n",
       "      <th>1</th>\n",
       "      <td>-8169.887144</td>\n",
       "      <td>1161.579399</td>\n",
       "      <td>278.913529</td>\n",
       "      <td>-170.904405</td>\n",
       "    </tr>\n",
       "    <tr>\n",
       "      <th>2</th>\n",
       "      <td>-9315.132446</td>\n",
       "      <td>1020.867154</td>\n",
       "      <td>254.607124</td>\n",
       "      <td>-165.535481</td>\n",
       "    </tr>\n",
       "    <tr>\n",
       "      <th>3</th>\n",
       "      <td>-9285.392536</td>\n",
       "      <td>1019.974686</td>\n",
       "      <td>253.891006</td>\n",
       "      <td>-164.674329</td>\n",
       "    </tr>\n",
       "    <tr>\n",
       "      <th>4</th>\n",
       "      <td>2457.214606</td>\n",
       "      <td>1389.698666</td>\n",
       "      <td>173.612852</td>\n",
       "      <td>-49.114389</td>\n",
       "    </tr>\n",
       "    <tr>\n",
       "      <th>...</th>\n",
       "      <td>...</td>\n",
       "      <td>...</td>\n",
       "      <td>...</td>\n",
       "      <td>...</td>\n",
       "    </tr>\n",
       "    <tr>\n",
       "      <th>889683</th>\n",
       "      <td>-321.305787</td>\n",
       "      <td>-558.380492</td>\n",
       "      <td>136.849499</td>\n",
       "      <td>77.996596</td>\n",
       "    </tr>\n",
       "    <tr>\n",
       "      <th>889684</th>\n",
       "      <td>-1257.659024</td>\n",
       "      <td>-773.800494</td>\n",
       "      <td>145.807877</td>\n",
       "      <td>59.983752</td>\n",
       "    </tr>\n",
       "    <tr>\n",
       "      <th>889685</th>\n",
       "      <td>-1180.226260</td>\n",
       "      <td>-834.532017</td>\n",
       "      <td>124.859548</td>\n",
       "      <td>60.065118</td>\n",
       "    </tr>\n",
       "    <tr>\n",
       "      <th>889686</th>\n",
       "      <td>-103.151709</td>\n",
       "      <td>-669.539564</td>\n",
       "      <td>28.930263</td>\n",
       "      <td>97.963688</td>\n",
       "    </tr>\n",
       "    <tr>\n",
       "      <th>889687</th>\n",
       "      <td>-1654.395047</td>\n",
       "      <td>-45.548047</td>\n",
       "      <td>0.007249</td>\n",
       "      <td>41.755809</td>\n",
       "    </tr>\n",
       "  </tbody>\n",
       "</table>\n",
       "<p>889688 rows × 4 columns</p>\n",
       "</div>"
      ],
      "text/plain": [
       "                  0            1           2           3\n",
       "0      -2653.876329  1396.904075  291.983418 -138.548318\n",
       "1      -8169.887144  1161.579399  278.913529 -170.904405\n",
       "2      -9315.132446  1020.867154  254.607124 -165.535481\n",
       "3      -9285.392536  1019.974686  253.891006 -164.674329\n",
       "4       2457.214606  1389.698666  173.612852  -49.114389\n",
       "...             ...          ...         ...         ...\n",
       "889683  -321.305787  -558.380492  136.849499   77.996596\n",
       "889684 -1257.659024  -773.800494  145.807877   59.983752\n",
       "889685 -1180.226260  -834.532017  124.859548   60.065118\n",
       "889686  -103.151709  -669.539564   28.930263   97.963688\n",
       "889687 -1654.395047   -45.548047    0.007249   41.755809\n",
       "\n",
       "[889688 rows x 4 columns]"
      ]
     },
     "execution_count": 183,
     "metadata": {},
     "output_type": "execute_result"
    }
   ],
   "source": [
    "q"
   ]
  },
  {
   "cell_type": "code",
   "execution_count": null,
   "metadata": {},
   "outputs": [],
   "source": [
    "# import pandas as pd\n",
    "# import numpy as np\n",
    "# import matplotlib.pyplot as plt\n",
    "# from mpl_toolkits.mplot3d import Axes3D\n",
    "\n",
    "\n",
    "# fig = plt.figure(figsize=(12, 9))\n",
    "# ax = Axes3D(fig)\n",
    "# y = q.iloc[:,1]\n",
    "# x = q.iloc[:,0]\n",
    "# z = q.iloc[:,2]\n",
    "\n",
    "\n",
    "# ax.scatter(x,y,z)#, c=c, cmap='coolwarm')\n",
    "# plt.title('First 3 Principal Components')\n",
    "# ax.set_ylabel('PC2')\n",
    "# ax.set_xlabel('PC1')\n",
    "# ax.set_zlabel('PC3')\n",
    "# # plt.legend()"
   ]
  },
  {
   "cell_type": "code",
   "execution_count": 184,
   "metadata": {},
   "outputs": [
    {
     "data": {
      "image/png": "[encoded data removed]",
      "text/plain": [
       "<Figure size 720x360 with 1 Axes>"
      ]
     },
     "metadata": {
      "needs_background": "light"
     },
     "output_type": "display_data"
    }
   ],
   "source": [
    "from matplotlib import pyplot as plt\n",
    "\n",
    "\n",
    "from sklearn.cluster import KMeans\n",
    "\n",
    "distortions=[]\n",
    "\n",
    "K = range(1,9)\n",
    "for k in K:\n",
    "    kmean = KMeans(n_clusters=k, random_state=0, n_init=50, max_iter =500)\n",
    "    kmean.fit(q)\n",
    "    distortions.append(kmean.inertia_)\n",
    "\n",
    "plt.figure(figsize=(10,5))\n",
    "plt.plot(K, distortions, 'bx-')\n",
    "plt.xlabel('k')\n",
    "plt.ylabel('Distortion')\n",
    "plt.title('Elbow method')\n",
    "plt.show()"
   ]
  },
  {
   "cell_type": "code",
   "execution_count": 185,
   "metadata": {
    "scrolled": true
   },
   "outputs": [],
   "source": [
    "from sklearn.cluster import KMeans\n",
    "\n",
    "# y = q.iloc[:,1]\n",
    "# x = q.iloc[:,0]\n",
    "# z = q.iloc[:,2]\n",
    "\n",
    "kmeans = KMeans(n_clusters=7)\n",
    "kmeans = kmeans.fit(q)\n",
    "labels = kmeans.predict(q)\n",
    "\n",
    "# fig=plt.figure()\n",
    "# ax = fig.add_subplot(111, projection='3d')\n",
    "# ColorsA=plt.cm.viridis(np.linspace(0, 1,5),alpha=0.8) \n",
    "\n",
    "# #Equally spaced color \n",
    "# for i in range(5): #Labels of the clusters \n",
    "#     xL=[]\n",
    "#     yL=[]\n",
    "#     zL=[]\n",
    "#     for k in range(len(x)):\n",
    "#         if labels[k]==i: #Data points of each cluster \n",
    "#             xL.append(x.iloc[k])\n",
    "#             yL.append(y.iloc[k])\n",
    "#             zL.append(z.iloc[k])\n",
    "\n",
    "#     ax.scatter(xL,yL,zL,c=ColorsA[i])"
   ]
  },
  {
   "cell_type": "code",
   "execution_count": 186,
   "metadata": {},
   "outputs": [
    {
     "name": "stdout",
     "output_type": "stream",
     "text": [
      "889688\n",
      "0\n",
      "6\n",
      "[1 2 2 ... 5 6 5]\n",
      "34372\n"
     ]
    }
   ],
   "source": [
    "print(len(labels)) #labels matchs with dataframe 'df' s rows\n",
    "print(min(labels))\n",
    "print(max(labels))\n",
    "print(labels)\n",
    "\n",
    "count = 0\n",
    "for value in labels:\n",
    "    if value == 1:\n",
    "      count += 1\n",
    "\n",
    "print(count)"
   ]
  },
  {
   "cell_type": "code",
   "execution_count": 187,
   "metadata": {},
   "outputs": [],
   "source": [
    "index = final.index.tolist() \n",
    "\n",
    "\n"
   ]
  },
  {
   "cell_type": "code",
   "execution_count": 188,
   "metadata": {},
   "outputs": [
    {
     "data": {
      "text/plain": [
       "array([   8071,    8072,    8076, ..., 4097284, 4097285, 4097286])"
      ]
     },
     "execution_count": 188,
     "metadata": {},
     "output_type": "execute_result"
    }
   ],
   "source": [
    "\n",
    "a= np.array(index)\n",
    "a"
   ]
  },
  {
   "cell_type": "code",
   "execution_count": 189,
   "metadata": {},
   "outputs": [],
   "source": [
    "dataset = pd.DataFrame({'count': a, 'labels': labels})\n"
   ]
  },
  {
   "cell_type": "code",
   "execution_count": 190,
   "metadata": {},
   "outputs": [],
   "source": [
    "dataset.set_index('count', inplace = True)\n"
   ]
  },
  {
   "cell_type": "code",
   "execution_count": 191,
   "metadata": {},
   "outputs": [
    {
     "data": {
      "text/html": [
       "<div>\n",
       "<style scoped>\n",
       "    .dataframe tbody tr th:only-of-type {\n",
       "        vertical-align: middle;\n",
       "    }\n",
       "\n",
       "    .dataframe tbody tr th {\n",
       "        vertical-align: top;\n",
       "    }\n",
       "\n",
       "    .dataframe thead th {\n",
       "        text-align: right;\n",
       "    }\n",
       "</style>\n",
       "<table border=\"1\" class=\"dataframe\">\n",
       "  <thead>\n",
       "    <tr style=\"text-align: right;\">\n",
       "      <th></th>\n",
       "      <th>labels</th>\n",
       "    </tr>\n",
       "    <tr>\n",
       "      <th>count</th>\n",
       "      <th></th>\n",
       "    </tr>\n",
       "  </thead>\n",
       "  <tbody>\n",
       "    <tr>\n",
       "      <th>8071</th>\n",
       "      <td>1</td>\n",
       "    </tr>\n",
       "    <tr>\n",
       "      <th>8072</th>\n",
       "      <td>2</td>\n",
       "    </tr>\n",
       "    <tr>\n",
       "      <th>8076</th>\n",
       "      <td>2</td>\n",
       "    </tr>\n",
       "    <tr>\n",
       "      <th>9260</th>\n",
       "      <td>2</td>\n",
       "    </tr>\n",
       "    <tr>\n",
       "      <th>9262</th>\n",
       "      <td>4</td>\n",
       "    </tr>\n",
       "    <tr>\n",
       "      <th>...</th>\n",
       "      <td>...</td>\n",
       "    </tr>\n",
       "    <tr>\n",
       "      <th>4097282</th>\n",
       "      <td>5</td>\n",
       "    </tr>\n",
       "    <tr>\n",
       "      <th>4097283</th>\n",
       "      <td>5</td>\n",
       "    </tr>\n",
       "    <tr>\n",
       "      <th>4097284</th>\n",
       "      <td>5</td>\n",
       "    </tr>\n",
       "    <tr>\n",
       "      <th>4097285</th>\n",
       "      <td>6</td>\n",
       "    </tr>\n",
       "    <tr>\n",
       "      <th>4097286</th>\n",
       "      <td>5</td>\n",
       "    </tr>\n",
       "  </tbody>\n",
       "</table>\n",
       "<p>889688 rows × 1 columns</p>\n",
       "</div>"
      ],
      "text/plain": [
       "         labels\n",
       "count          \n",
       "8071          1\n",
       "8072          2\n",
       "8076          2\n",
       "9260          2\n",
       "9262          4\n",
       "...         ...\n",
       "4097282       5\n",
       "4097283       5\n",
       "4097284       5\n",
       "4097285       6\n",
       "4097286       5\n",
       "\n",
       "[889688 rows x 1 columns]"
      ]
     },
     "execution_count": 191,
     "metadata": {},
     "output_type": "execute_result"
    }
   ],
   "source": [
    "dataset"
   ]
  },
  {
   "cell_type": "code",
   "execution_count": 192,
   "metadata": {},
   "outputs": [
    {
     "data": {
      "text/plain": [
       "5    296522\n",
       "6    267124\n",
       "0    131689\n",
       "4    112033\n",
       "2     39798\n",
       "1     34372\n",
       "3      8150\n",
       "Name: labels, dtype: int64"
      ]
     },
     "execution_count": 192,
     "metadata": {},
     "output_type": "execute_result"
    }
   ],
   "source": [
    "res = dataset['labels'].value_counts()\n",
    "res"
   ]
  },
  {
   "cell_type": "code",
   "execution_count": 194,
   "metadata": {},
   "outputs": [],
   "source": [
    "def reshaped_coords(a):\n",
    "    q,r = divmod(a,width)\n",
    "    y_coord = q\n",
    "    x_coord = r\n",
    "    return (x_coord, y_coord)\n"
   ]
  },
  {
   "cell_type": "code",
   "execution_count": 195,
   "metadata": {},
   "outputs": [],
   "source": [
    "Index_label_class0 = dataset[dataset['labels']==0].index.tolist() \n",
    "\n",
    "Index_label_class1 = dataset[dataset['labels']==1].index.tolist() \n",
    "Index_label_class2 = dataset[dataset['labels']==2].index.tolist()  \n",
    "Index_label_class3 = dataset[dataset['labels']==3].index.tolist() \n",
    "Index_label_class4 = dataset[dataset['labels']==4].index.tolist() \n",
    "Index_label_class5 = dataset[dataset['labels']==5].index.tolist() \n",
    "Index_label_class6 = dataset[dataset['labels']==6].index.tolist() \n"
   ]
  },
  {
   "cell_type": "code",
   "execution_count": 196,
   "metadata": {},
   "outputs": [],
   "source": [
    "class_0_list=[]\n",
    "for values in Index_label_class0:\n",
    "  coords = reshaped_coords(values)\n",
    "  class_0_list.append(coords)\n",
    "\n",
    "class_1_list=[]\n",
    "for values in Index_label_class1:\n",
    "  coords = reshaped_coords(values)\n",
    "  class_1_list.append(coords)\n",
    "\n",
    "class_2_list=[]\n",
    "for values in Index_label_class2:\n",
    "  coords = reshaped_coords(values)\n",
    "  class_2_list.append(coords)\n",
    "\n",
    "class_3_list=[]\n",
    "for values in Index_label_class3:\n",
    "  coords = reshaped_coords(values)\n",
    "  class_3_list.append(coords)\n",
    "\n",
    "class_4_list=[]\n",
    "for values in Index_label_class4:\n",
    "  coords = reshaped_coords(values)\n",
    "  class_4_list.append(coords)\n",
    "\n",
    "class_5_list=[]\n",
    "for values in Index_label_class5:\n",
    "  coords = reshaped_coords(values)\n",
    "  class_5_list.append(coords)\n",
    "\n",
    "class_6_list=[]\n",
    "for values in Index_label_class6:\n",
    "  coords = reshaped_coords(values)\n",
    "  class_6_list.append(coords)\n",
    "\n",
    "\n"
   ]
  },
  {
   "cell_type": "code",
   "execution_count": 200,
   "metadata": {},
   "outputs": [
    {
     "data": {
      "text/plain": [
       "True"
      ]
     },
     "execution_count": 200,
     "metadata": {},
     "output_type": "execute_result"
    }
   ],
   "source": [
    "import cv2\n",
    "import numpy as np\n",
    "\n",
    "# width = 1021\n",
    "# height = 3481\n",
    "#3481, 1021\n",
    "# Make empty black image of size (100,100)\n",
    "img = np.zeros((height, width, 3), np.uint8)\n",
    "\n",
    "red = [0,0,255]\n",
    "green = [0,255,0]\n",
    "blue = [255,0,0]\n",
    "yellow = [0,255,255]\n",
    "color1 = [0,255,255]\n",
    "color2 = [255,255,0]\n",
    "pink = [255,0,255]\n",
    "color4 = [243,218,199]\n",
    "color5 = [72,139,28]\n",
    "color6 = [63,92,240]\n",
    "color7 = [115,43,41] # waterbody\n",
    "light_blue = [243,218,199]\n",
    "water_body = [115,43,41]\n",
    "white = [255,255,255]\n",
    "dark_green=[0,50,0]\n",
    "\n",
    "for values in class_0_list:\n",
    "#   print(values[1], values[0])\n",
    "\n",
    "  img[values[1],values[0]] = light_blue\n",
    "\n",
    "cv2.imwrite('img0.png', img)\n",
    "\n",
    "for values in class_1_list:\n",
    "#   print(values[1], values[0])\n",
    "\n",
    "  img[values[1],values[0]] = blue\n",
    "\n",
    "cv2.imwrite('img1.png', img)\n",
    "\n",
    "for values in class_2_list:\n",
    "#   print(values[1], values[0])\n",
    "\n",
    "  img[values[1],values[0]] = water_body\n",
    "\n",
    "cv2.imwrite('img2.png', img)\n",
    "\n",
    "\n",
    "for values in class_3_list:\n",
    "#   print(values[1], values[0])\n",
    "\n",
    "  img[values[1],values[0]] = yellow\n",
    "\n",
    "cv2.imwrite('img3.png', img)\n",
    "\n",
    "for values in class_4_list:\n",
    "#   print(values[1], values[0])\n",
    "\n",
    "  img[values[1],values[0]] = red\n",
    "\n",
    "cv2.imwrite('img4.png', img)\n",
    "\n",
    "for values in class_5_list:\n",
    "#   print(values[1], values[0])\n",
    "\n",
    "  img[values[1],values[0]] = dark_green\n",
    "\n",
    "cv2.imwrite('img5.png', img)\n",
    "\n",
    "for values in class_6_list:\n",
    "#   print(values[1], values[0])\n",
    "\n",
    "  img[values[1],values[0]] = green\n",
    "\n",
    "cv2.imwrite('img6.png', img)\n",
    "\n"
   ]
  },
  {
   "cell_type": "code",
   "execution_count": 201,
   "metadata": {},
   "outputs": [
    {
     "data": {
      "image/png": "[encoded data removed]",
      "text/plain": [
       "<IPython.core.display.Image object>"
      ]
     },
     "metadata": {},
     "output_type": "display_data"
    }
   ],
   "source": [
    "from IPython.display import Image \n",
    "pil_img = Image(filename='img6.png')\n",
    "display(pil_img)"
   ]
  },
  {
   "cell_type": "code",
   "execution_count": null,
   "metadata": {},
   "outputs": [],
   "source": []
  }
 ],
 "metadata": {
  "kernelspec": {
   "display_name": "Python 3.6.10 64-bit ('tensorflowGPU_p36': conda)",
   "language": "python",
   "name": "python361064bittensorflowgpup36condab4a443a85026453c8cbe8a696bf608a1"
  },
  "language_info": {
   "codemirror_mode": {
    "name": "ipython",
    "version": 3
   },
   "file_extension": ".py",
   "mimetype": "text/x-python",
   "name": "python",
   "nbconvert_exporter": "python",
   "pygments_lexer": "ipython3",
   "version": "3.6.10"
  }
 },
 "nbformat": 4,
 "nbformat_minor": 4
}
